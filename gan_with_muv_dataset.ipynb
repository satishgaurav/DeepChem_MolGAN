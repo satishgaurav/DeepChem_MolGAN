{
  "nbformat": 4,
  "nbformat_minor": 0,
  "metadata": {
    "colab": {
      "name": "gan_with_muv_dataset.ipynb",
      "provenance": [],
      "collapsed_sections": [],
      "authorship_tag": "ABX9TyPsVPVfBy5ciyBPl+RmQtd+",
      "include_colab_link": true
    },
    "kernelspec": {
      "display_name": "Python 3",
      "name": "python3"
    },
    "language_info": {
      "name": "python"
    }
  },
  "cells": [
    {
      "cell_type": "markdown",
      "metadata": {
        "id": "view-in-github",
        "colab_type": "text"
      },
      "source": [
        "<a href=\"https://colab.research.google.com/github/satishgaurav/DeepChem_MolGAN/blob/master/gan_with_muv_dataset.ipynb\" target=\"_parent\"><img src=\"https://colab.research.google.com/assets/colab-badge.svg\" alt=\"Open In Colab\"/></a>"
      ]
    },
    {
      "cell_type": "code",
      "metadata": {
        "colab": {
          "base_uri": "https://localhost:8080/"
        },
        "id": "Tt1zqx5CK9HR",
        "outputId": "75b64c94-db60-4395-f95d-ada5cd01b555"
      },
      "source": [
        "from google.colab import drive\n",
        "drive.mount('/content/drive')"
      ],
      "execution_count": 1,
      "outputs": [
        {
          "output_type": "stream",
          "text": [
            "Mounted at /content/drive\n"
          ],
          "name": "stdout"
        }
      ]
    },
    {
      "cell_type": "code",
      "metadata": {
        "id": "ZoFrj4lzK_Hb"
      },
      "source": [
        "## Print all variable\n",
        "from IPython.core.interactiveshell import InteractiveShell\n",
        "InteractiveShell.ast_node_interactivity = \"all\""
      ],
      "execution_count": 2,
      "outputs": []
    },
    {
      "cell_type": "code",
      "metadata": {
        "colab": {
          "base_uri": "https://localhost:8080/"
        },
        "id": "UBG0pq2tLeO_",
        "outputId": "99e339e8-98b0-425f-8f71-d7f9aded1398"
      },
      "source": [
        "## Install deepchem \n",
        "!curl -Lo conda_installer.py https://raw.githubusercontent.com/deepchem/deepchem/master/scripts/colab_install.py\n",
        "import conda_installer\n",
        "conda_installer.install()\n",
        "!/root/miniconda/bin/conda info -e\n",
        "\n",
        "!pip install --pre deepchem"
      ],
      "execution_count": 3,
      "outputs": [
        {
          "output_type": "stream",
          "text": [
            "  % Total    % Received % Xferd  Average Speed   Time    Time     Time  Current\n",
            "                                 Dload  Upload   Total   Spent    Left  Speed\n",
            "100  3501  100  3501    0     0   9565      0 --:--:-- --:--:-- --:--:--  9539\n"
          ],
          "name": "stdout"
        },
        {
          "output_type": "stream",
          "text": [
            "add /root/miniconda/lib/python3.7/site-packages to PYTHONPATH\n",
            "python version: 3.7.10\n",
            "fetching installer from https://repo.continuum.io/miniconda/Miniconda3-latest-Linux-x86_64.sh\n",
            "done\n",
            "installing miniconda to /root/miniconda\n",
            "done\n",
            "installing rdkit, openmm, pdbfixer\n",
            "added conda-forge to channels\n",
            "added omnia to channels\n",
            "done\n",
            "conda packages installation finished!\n"
          ],
          "name": "stderr"
        },
        {
          "output_type": "stream",
          "text": [
            "# conda environments:\n",
            "#\n",
            "base                  *  /root/miniconda\n",
            "\n",
            "Collecting deepchem\n",
            "\u001b[?25l  Downloading https://files.pythonhosted.org/packages/04/7f/3f678587e621d1b904ed6d1af65e353b1d681d6b9f4ffaf243c79745c654/deepchem-2.6.0.dev20210403043508-py3-none-any.whl (552kB)\n",
            "\u001b[K     |████████████████████████████████| 552kB 4.1MB/s \n",
            "\u001b[?25hRequirement already satisfied: pandas in /usr/local/lib/python3.7/dist-packages (from deepchem) (1.1.5)\n",
            "Requirement already satisfied: scikit-learn in /usr/local/lib/python3.7/dist-packages (from deepchem) (0.22.2.post1)\n",
            "Requirement already satisfied: scipy in /usr/local/lib/python3.7/dist-packages (from deepchem) (1.4.1)\n",
            "Requirement already satisfied: joblib in /usr/local/lib/python3.7/dist-packages (from deepchem) (1.0.1)\n",
            "Requirement already satisfied: numpy in /usr/local/lib/python3.7/dist-packages (from deepchem) (1.19.5)\n",
            "Requirement already satisfied: python-dateutil>=2.7.3 in /usr/local/lib/python3.7/dist-packages (from pandas->deepchem) (2.8.1)\n",
            "Requirement already satisfied: pytz>=2017.2 in /usr/local/lib/python3.7/dist-packages (from pandas->deepchem) (2018.9)\n",
            "Requirement already satisfied: six>=1.5 in /usr/local/lib/python3.7/dist-packages (from python-dateutil>=2.7.3->pandas->deepchem) (1.15.0)\n",
            "Installing collected packages: deepchem\n",
            "Successfully installed deepchem-2.6.0.dev20210403043508\n"
          ],
          "name": "stdout"
        }
      ]
    },
    {
      "cell_type": "code",
      "metadata": {
        "id": "_VIjOQJfLgMm"
      },
      "source": [
        "import tensorflow as tf \n",
        "import numpy as np \n",
        "import deepchem as dc\n",
        "import rdkit as rdkit\n",
        "import rdkit.Chem as Chem\n",
        "import rdkit.Chem.PandasTools as pt\n",
        "import pandas as pd"
      ],
      "execution_count": 4,
      "outputs": []
    },
    {
      "cell_type": "code",
      "metadata": {
        "colab": {
          "base_uri": "https://localhost:8080/"
        },
        "id": "G5Ya0_gyLqWb",
        "outputId": "aabce632-253d-4faa-a40a-2d1334ea20eb"
      },
      "source": [
        "print('Tensorflow version:', tf.__version__) \n",
        "print('GPU avilable:', tf.test.gpu_device_name())\n",
        "print('RDKit version: ', rdkit.__version__)\n",
        "print('DeepChem version', dc.__version__)"
      ],
      "execution_count": 5,
      "outputs": [
        {
          "output_type": "stream",
          "text": [
            "Tensorflow version: 2.4.1\n",
            "GPU avilable: \n",
            "RDKit version:  2020.09.1\n",
            "DeepChem version 2.6.0.dev\n"
          ],
          "name": "stdout"
        }
      ]
    },
    {
      "cell_type": "code",
      "metadata": {
        "id": "vAXfPrdZL66i"
      },
      "source": [
        "import sys\n",
        "sys.path.insert(1, '/content/drive/MyDrive/DeepChem_MolGAN/')"
      ],
      "execution_count": 6,
      "outputs": []
    },
    {
      "cell_type": "code",
      "metadata": {
        "id": "sOqFoOU0MB8e"
      },
      "source": [
        "from layers.layers import GraphEncoderLayer\n",
        "from tensorflow.keras import layers"
      ],
      "execution_count": 7,
      "outputs": []
    },
    {
      "cell_type": "code",
      "metadata": {
        "id": "bDeNmt6KMEfa"
      },
      "source": [
        "data = pd.read_csv('/content/drive/MyDrive/DeepChem_MolGAN/data/muv.csv')"
      ],
      "execution_count": 8,
      "outputs": []
    },
    {
      "cell_type": "code",
      "metadata": {
        "id": "K6pkDMzuRnlr",
        "colab": {
          "base_uri": "https://localhost:8080/",
          "height": 456
        },
        "outputId": "1938d3b5-bdc7-43fa-b1a5-da788bcccf40"
      },
      "source": [
        "data"
      ],
      "execution_count": 9,
      "outputs": [
        {
          "output_type": "execute_result",
          "data": {
            "text/html": [
              "<div>\n",
              "<style scoped>\n",
              "    .dataframe tbody tr th:only-of-type {\n",
              "        vertical-align: middle;\n",
              "    }\n",
              "\n",
              "    .dataframe tbody tr th {\n",
              "        vertical-align: top;\n",
              "    }\n",
              "\n",
              "    .dataframe thead th {\n",
              "        text-align: right;\n",
              "    }\n",
              "</style>\n",
              "<table border=\"1\" class=\"dataframe\">\n",
              "  <thead>\n",
              "    <tr style=\"text-align: right;\">\n",
              "      <th></th>\n",
              "      <th>MUV-466</th>\n",
              "      <th>MUV-548</th>\n",
              "      <th>MUV-600</th>\n",
              "      <th>MUV-644</th>\n",
              "      <th>MUV-652</th>\n",
              "      <th>MUV-689</th>\n",
              "      <th>MUV-692</th>\n",
              "      <th>MUV-712</th>\n",
              "      <th>MUV-713</th>\n",
              "      <th>MUV-733</th>\n",
              "      <th>MUV-737</th>\n",
              "      <th>MUV-810</th>\n",
              "      <th>MUV-832</th>\n",
              "      <th>MUV-846</th>\n",
              "      <th>MUV-852</th>\n",
              "      <th>MUV-858</th>\n",
              "      <th>MUV-859</th>\n",
              "      <th>mol_id</th>\n",
              "      <th>smiles</th>\n",
              "    </tr>\n",
              "  </thead>\n",
              "  <tbody>\n",
              "    <tr>\n",
              "      <th>0</th>\n",
              "      <td>NaN</td>\n",
              "      <td>NaN</td>\n",
              "      <td>NaN</td>\n",
              "      <td>NaN</td>\n",
              "      <td>NaN</td>\n",
              "      <td>NaN</td>\n",
              "      <td>NaN</td>\n",
              "      <td>0.0</td>\n",
              "      <td>NaN</td>\n",
              "      <td>NaN</td>\n",
              "      <td>NaN</td>\n",
              "      <td>0.0</td>\n",
              "      <td>NaN</td>\n",
              "      <td>NaN</td>\n",
              "      <td>NaN</td>\n",
              "      <td>NaN</td>\n",
              "      <td>NaN</td>\n",
              "      <td>CID2999678</td>\n",
              "      <td>Cc1cccc(N2CCN(C(=O)C34CC5CC(CC(C5)C3)C4)CC2)c1C</td>\n",
              "    </tr>\n",
              "    <tr>\n",
              "      <th>1</th>\n",
              "      <td>0.0</td>\n",
              "      <td>0.0</td>\n",
              "      <td>NaN</td>\n",
              "      <td>NaN</td>\n",
              "      <td>0.0</td>\n",
              "      <td>0.0</td>\n",
              "      <td>0.0</td>\n",
              "      <td>NaN</td>\n",
              "      <td>NaN</td>\n",
              "      <td>NaN</td>\n",
              "      <td>0.0</td>\n",
              "      <td>NaN</td>\n",
              "      <td>0.0</td>\n",
              "      <td>NaN</td>\n",
              "      <td>NaN</td>\n",
              "      <td>0.0</td>\n",
              "      <td>0.0</td>\n",
              "      <td>CID2999679</td>\n",
              "      <td>Cn1ccnc1SCC(=O)Nc1ccc(Oc2ccccc2)cc1</td>\n",
              "    </tr>\n",
              "    <tr>\n",
              "      <th>2</th>\n",
              "      <td>NaN</td>\n",
              "      <td>NaN</td>\n",
              "      <td>0.0</td>\n",
              "      <td>NaN</td>\n",
              "      <td>NaN</td>\n",
              "      <td>NaN</td>\n",
              "      <td>NaN</td>\n",
              "      <td>NaN</td>\n",
              "      <td>NaN</td>\n",
              "      <td>NaN</td>\n",
              "      <td>NaN</td>\n",
              "      <td>NaN</td>\n",
              "      <td>NaN</td>\n",
              "      <td>NaN</td>\n",
              "      <td>NaN</td>\n",
              "      <td>NaN</td>\n",
              "      <td>0.0</td>\n",
              "      <td>CID2999672</td>\n",
              "      <td>COc1cc2c(cc1NC(=O)CN1C(=O)NC3(CCc4ccccc43)C1=O...</td>\n",
              "    </tr>\n",
              "    <tr>\n",
              "      <th>3</th>\n",
              "      <td>NaN</td>\n",
              "      <td>0.0</td>\n",
              "      <td>0.0</td>\n",
              "      <td>NaN</td>\n",
              "      <td>NaN</td>\n",
              "      <td>0.0</td>\n",
              "      <td>NaN</td>\n",
              "      <td>NaN</td>\n",
              "      <td>NaN</td>\n",
              "      <td>NaN</td>\n",
              "      <td>NaN</td>\n",
              "      <td>NaN</td>\n",
              "      <td>NaN</td>\n",
              "      <td>NaN</td>\n",
              "      <td>NaN</td>\n",
              "      <td>0.0</td>\n",
              "      <td>NaN</td>\n",
              "      <td>CID5390002</td>\n",
              "      <td>O=C1/C(=C/NC2CCS(=O)(=O)C2)c2ccccc2C(=O)N1c1cc...</td>\n",
              "    </tr>\n",
              "    <tr>\n",
              "      <th>4</th>\n",
              "      <td>0.0</td>\n",
              "      <td>NaN</td>\n",
              "      <td>NaN</td>\n",
              "      <td>NaN</td>\n",
              "      <td>0.0</td>\n",
              "      <td>NaN</td>\n",
              "      <td>0.0</td>\n",
              "      <td>0.0</td>\n",
              "      <td>NaN</td>\n",
              "      <td>NaN</td>\n",
              "      <td>NaN</td>\n",
              "      <td>NaN</td>\n",
              "      <td>NaN</td>\n",
              "      <td>NaN</td>\n",
              "      <td>NaN</td>\n",
              "      <td>NaN</td>\n",
              "      <td>NaN</td>\n",
              "      <td>CID2999670</td>\n",
              "      <td>NC(=O)NC(Cc1ccccc1)C(=O)O</td>\n",
              "    </tr>\n",
              "    <tr>\n",
              "      <th>...</th>\n",
              "      <td>...</td>\n",
              "      <td>...</td>\n",
              "      <td>...</td>\n",
              "      <td>...</td>\n",
              "      <td>...</td>\n",
              "      <td>...</td>\n",
              "      <td>...</td>\n",
              "      <td>...</td>\n",
              "      <td>...</td>\n",
              "      <td>...</td>\n",
              "      <td>...</td>\n",
              "      <td>...</td>\n",
              "      <td>...</td>\n",
              "      <td>...</td>\n",
              "      <td>...</td>\n",
              "      <td>...</td>\n",
              "      <td>...</td>\n",
              "      <td>...</td>\n",
              "      <td>...</td>\n",
              "    </tr>\n",
              "    <tr>\n",
              "      <th>93082</th>\n",
              "      <td>NaN</td>\n",
              "      <td>NaN</td>\n",
              "      <td>NaN</td>\n",
              "      <td>NaN</td>\n",
              "      <td>NaN</td>\n",
              "      <td>NaN</td>\n",
              "      <td>NaN</td>\n",
              "      <td>NaN</td>\n",
              "      <td>NaN</td>\n",
              "      <td>NaN</td>\n",
              "      <td>NaN</td>\n",
              "      <td>NaN</td>\n",
              "      <td>NaN</td>\n",
              "      <td>0.0</td>\n",
              "      <td>NaN</td>\n",
              "      <td>NaN</td>\n",
              "      <td>NaN</td>\n",
              "      <td>CID2957283</td>\n",
              "      <td>O=C(NCc1ccccc1Cl)C1CCCO1</td>\n",
              "    </tr>\n",
              "    <tr>\n",
              "      <th>93083</th>\n",
              "      <td>NaN</td>\n",
              "      <td>NaN</td>\n",
              "      <td>NaN</td>\n",
              "      <td>NaN</td>\n",
              "      <td>NaN</td>\n",
              "      <td>NaN</td>\n",
              "      <td>NaN</td>\n",
              "      <td>0.0</td>\n",
              "      <td>NaN</td>\n",
              "      <td>NaN</td>\n",
              "      <td>NaN</td>\n",
              "      <td>NaN</td>\n",
              "      <td>NaN</td>\n",
              "      <td>NaN</td>\n",
              "      <td>NaN</td>\n",
              "      <td>NaN</td>\n",
              "      <td>NaN</td>\n",
              "      <td>CID414138</td>\n",
              "      <td>COc1cc(NCCCCCN2C(=O)c3ccccc3C2=O)c2ncccc2c1</td>\n",
              "    </tr>\n",
              "    <tr>\n",
              "      <th>93084</th>\n",
              "      <td>NaN</td>\n",
              "      <td>NaN</td>\n",
              "      <td>NaN</td>\n",
              "      <td>NaN</td>\n",
              "      <td>NaN</td>\n",
              "      <td>NaN</td>\n",
              "      <td>NaN</td>\n",
              "      <td>NaN</td>\n",
              "      <td>NaN</td>\n",
              "      <td>NaN</td>\n",
              "      <td>NaN</td>\n",
              "      <td>NaN</td>\n",
              "      <td>NaN</td>\n",
              "      <td>0.0</td>\n",
              "      <td>NaN</td>\n",
              "      <td>NaN</td>\n",
              "      <td>NaN</td>\n",
              "      <td>CID718652</td>\n",
              "      <td>CCN(CC)c1ccc(/C=C2/C(=O)ON=C2C)cc1</td>\n",
              "    </tr>\n",
              "    <tr>\n",
              "      <th>93085</th>\n",
              "      <td>NaN</td>\n",
              "      <td>NaN</td>\n",
              "      <td>NaN</td>\n",
              "      <td>NaN</td>\n",
              "      <td>NaN</td>\n",
              "      <td>NaN</td>\n",
              "      <td>NaN</td>\n",
              "      <td>NaN</td>\n",
              "      <td>NaN</td>\n",
              "      <td>NaN</td>\n",
              "      <td>NaN</td>\n",
              "      <td>NaN</td>\n",
              "      <td>NaN</td>\n",
              "      <td>NaN</td>\n",
              "      <td>0.0</td>\n",
              "      <td>NaN</td>\n",
              "      <td>NaN</td>\n",
              "      <td>CID2446949</td>\n",
              "      <td>Cc1cc(=O)oc2cc(OCC(=O)c3ccc4c(c3)NC(=O)CO4)ccc12</td>\n",
              "    </tr>\n",
              "    <tr>\n",
              "      <th>93086</th>\n",
              "      <td>NaN</td>\n",
              "      <td>NaN</td>\n",
              "      <td>NaN</td>\n",
              "      <td>NaN</td>\n",
              "      <td>NaN</td>\n",
              "      <td>NaN</td>\n",
              "      <td>NaN</td>\n",
              "      <td>NaN</td>\n",
              "      <td>NaN</td>\n",
              "      <td>NaN</td>\n",
              "      <td>NaN</td>\n",
              "      <td>NaN</td>\n",
              "      <td>NaN</td>\n",
              "      <td>NaN</td>\n",
              "      <td>0.0</td>\n",
              "      <td>NaN</td>\n",
              "      <td>NaN</td>\n",
              "      <td>CID844405</td>\n",
              "      <td>COc1ccc([N+](=O)[O-])cc1NC(=O)c1ccc(C)o1</td>\n",
              "    </tr>\n",
              "  </tbody>\n",
              "</table>\n",
              "<p>93087 rows × 19 columns</p>\n",
              "</div>"
            ],
            "text/plain": [
              "       MUV-466  ...                                             smiles\n",
              "0          NaN  ...    Cc1cccc(N2CCN(C(=O)C34CC5CC(CC(C5)C3)C4)CC2)c1C\n",
              "1          0.0  ...                Cn1ccnc1SCC(=O)Nc1ccc(Oc2ccccc2)cc1\n",
              "2          NaN  ...  COc1cc2c(cc1NC(=O)CN1C(=O)NC3(CCc4ccccc43)C1=O...\n",
              "3          NaN  ...  O=C1/C(=C/NC2CCS(=O)(=O)C2)c2ccccc2C(=O)N1c1cc...\n",
              "4          0.0  ...                          NC(=O)NC(Cc1ccccc1)C(=O)O\n",
              "...        ...  ...                                                ...\n",
              "93082      NaN  ...                           O=C(NCc1ccccc1Cl)C1CCCO1\n",
              "93083      NaN  ...        COc1cc(NCCCCCN2C(=O)c3ccccc3C2=O)c2ncccc2c1\n",
              "93084      NaN  ...                 CCN(CC)c1ccc(/C=C2/C(=O)ON=C2C)cc1\n",
              "93085      NaN  ...   Cc1cc(=O)oc2cc(OCC(=O)c3ccc4c(c3)NC(=O)CO4)ccc12\n",
              "93086      NaN  ...           COc1ccc([N+](=O)[O-])cc1NC(=O)c1ccc(C)o1\n",
              "\n",
              "[93087 rows x 19 columns]"
            ]
          },
          "metadata": {
            "tags": []
          },
          "execution_count": 9
        }
      ]
    },
    {
      "cell_type": "code",
      "metadata": {
        "id": "ZSpz-K4dMMEz"
      },
      "source": [
        "data_1 = pd.read_csv('/content/drive/MyDrive/DeepChem_MolGAN/data/QM9_HAC_5_9_.csv')"
      ],
      "execution_count": 10,
      "outputs": []
    },
    {
      "cell_type": "code",
      "metadata": {
        "colab": {
          "base_uri": "https://localhost:8080/",
          "height": 204
        },
        "id": "Oc-ii9JlMRhP",
        "outputId": "3e882241-0b2a-4068-d658-1a248d4ec5fc"
      },
      "source": [
        "data_1.tail()"
      ],
      "execution_count": 12,
      "outputs": [
        {
          "output_type": "execute_result",
          "data": {
            "text/html": [
              "<div>\n",
              "<style scoped>\n",
              "    .dataframe tbody tr th:only-of-type {\n",
              "        vertical-align: middle;\n",
              "    }\n",
              "\n",
              "    .dataframe tbody tr th {\n",
              "        vertical-align: top;\n",
              "    }\n",
              "\n",
              "    .dataframe thead th {\n",
              "        text-align: right;\n",
              "    }\n",
              "</style>\n",
              "<table border=\"1\" class=\"dataframe\">\n",
              "  <thead>\n",
              "    <tr style=\"text-align: right;\">\n",
              "      <th></th>\n",
              "      <th>SMILES</th>\n",
              "    </tr>\n",
              "  </thead>\n",
              "  <tbody>\n",
              "    <tr>\n",
              "      <th>133832</th>\n",
              "      <td>[H][C@@]12C[C]345O[C]33([H])[C@@H]4[C@@H]1[N@@...</td>\n",
              "    </tr>\n",
              "    <tr>\n",
              "      <th>133833</th>\n",
              "      <td>[H][C]123O[C]114C[N@@H+]5[C@@H]([C@@H]5[C@H]21...</td>\n",
              "    </tr>\n",
              "    <tr>\n",
              "      <th>133834</th>\n",
              "      <td>C1[N@H+]2[C@@H]3[C@@H]4[C@@H]5[C@H]2[C@]13C[N@...</td>\n",
              "    </tr>\n",
              "    <tr>\n",
              "      <th>133835</th>\n",
              "      <td>C1[N@H+]2[C@@H]3[C@H]4[C@H]5C[C@@]13[C@@H]2[C@...</td>\n",
              "    </tr>\n",
              "    <tr>\n",
              "      <th>133836</th>\n",
              "      <td>C1[N@H+]2[C@@H]3[C@H]4[C@H]5O[C@@]13[C@@H]2[C@...</td>\n",
              "    </tr>\n",
              "  </tbody>\n",
              "</table>\n",
              "</div>"
            ],
            "text/plain": [
              "                                                   SMILES\n",
              "133832  [H][C@@]12C[C]345O[C]33([H])[C@@H]4[C@@H]1[N@@...\n",
              "133833  [H][C]123O[C]114C[N@@H+]5[C@@H]([C@@H]5[C@H]21...\n",
              "133834  C1[N@H+]2[C@@H]3[C@@H]4[C@@H]5[C@H]2[C@]13C[N@...\n",
              "133835  C1[N@H+]2[C@@H]3[C@H]4[C@H]5C[C@@]13[C@@H]2[C@...\n",
              "133836  C1[N@H+]2[C@@H]3[C@H]4[C@H]5O[C@@]13[C@@H]2[C@..."
            ]
          },
          "metadata": {
            "tags": []
          },
          "execution_count": 12
        }
      ]
    },
    {
      "cell_type": "code",
      "metadata": {
        "colab": {
          "base_uri": "https://localhost:8080/"
        },
        "id": "vKo-SaXJMXbm",
        "outputId": "8f5a9c83-86c5-4ef6-fb7f-52add54e4d0a"
      },
      "source": [
        "data.columns "
      ],
      "execution_count": null,
      "outputs": [
        {
          "output_type": "execute_result",
          "data": {
            "text/plain": [
              "Index(['MUV-466', 'MUV-548', 'MUV-600', 'MUV-644', 'MUV-652', 'MUV-689',\n",
              "       'MUV-692', 'MUV-712', 'MUV-713', 'MUV-733', 'MUV-737', 'MUV-810',\n",
              "       'MUV-832', 'MUV-846', 'MUV-852', 'MUV-858', 'MUV-859', 'mol_id',\n",
              "       'smiles'],\n",
              "      dtype='object')"
            ]
          },
          "metadata": {
            "tags": []
          },
          "execution_count": 13
        }
      ]
    },
    {
      "cell_type": "code",
      "metadata": {
        "colab": {
          "base_uri": "https://localhost:8080/",
          "height": 35
        },
        "id": "FYimTa_sTZFb",
        "outputId": "b5ea9927-6dd1-4754-8c33-4a4040f266f1"
      },
      "source": [
        "data_1[\"SMILES\"][476]"
      ],
      "execution_count": null,
      "outputs": [
        {
          "output_type": "execute_result",
          "data": {
            "application/vnd.google.colaboratory.intrinsic+json": {
              "type": "string"
            },
            "text/plain": [
              "'CCCCC#C'"
            ]
          },
          "metadata": {
            "tags": []
          },
          "execution_count": 37
        }
      ]
    },
    {
      "cell_type": "code",
      "metadata": {
        "id": "mGW0D5z-McjW"
      },
      "source": [
        "# data['smiles'][476]\n",
        "# print('\\n')\n",
        "# for atom in range(0, len(data['smiles'][476])):\n",
        "#   print(data['smiles'][476][atom])"
      ],
      "execution_count": 13,
      "outputs": []
    },
    {
      "cell_type": "code",
      "metadata": {
        "colab": {
          "base_uri": "https://localhost:8080/",
          "height": 241
        },
        "id": "psZNz5_tMInL",
        "outputId": "d1e4e004-507c-4269-b3cc-c34fa4da1441"
      },
      "source": [
        "data.head()"
      ],
      "execution_count": null,
      "outputs": [
        {
          "output_type": "execute_result",
          "data": {
            "text/html": [
              "<div>\n",
              "<style scoped>\n",
              "    .dataframe tbody tr th:only-of-type {\n",
              "        vertical-align: middle;\n",
              "    }\n",
              "\n",
              "    .dataframe tbody tr th {\n",
              "        vertical-align: top;\n",
              "    }\n",
              "\n",
              "    .dataframe thead th {\n",
              "        text-align: right;\n",
              "    }\n",
              "</style>\n",
              "<table border=\"1\" class=\"dataframe\">\n",
              "  <thead>\n",
              "    <tr style=\"text-align: right;\">\n",
              "      <th></th>\n",
              "      <th>MUV-466</th>\n",
              "      <th>MUV-548</th>\n",
              "      <th>MUV-600</th>\n",
              "      <th>MUV-644</th>\n",
              "      <th>MUV-652</th>\n",
              "      <th>MUV-689</th>\n",
              "      <th>MUV-692</th>\n",
              "      <th>MUV-712</th>\n",
              "      <th>MUV-713</th>\n",
              "      <th>MUV-733</th>\n",
              "      <th>MUV-737</th>\n",
              "      <th>MUV-810</th>\n",
              "      <th>MUV-832</th>\n",
              "      <th>MUV-846</th>\n",
              "      <th>MUV-852</th>\n",
              "      <th>MUV-858</th>\n",
              "      <th>MUV-859</th>\n",
              "      <th>mol_id</th>\n",
              "      <th>smiles</th>\n",
              "    </tr>\n",
              "  </thead>\n",
              "  <tbody>\n",
              "    <tr>\n",
              "      <th>0</th>\n",
              "      <td>NaN</td>\n",
              "      <td>NaN</td>\n",
              "      <td>NaN</td>\n",
              "      <td>NaN</td>\n",
              "      <td>NaN</td>\n",
              "      <td>NaN</td>\n",
              "      <td>NaN</td>\n",
              "      <td>0.0</td>\n",
              "      <td>NaN</td>\n",
              "      <td>NaN</td>\n",
              "      <td>NaN</td>\n",
              "      <td>0.0</td>\n",
              "      <td>NaN</td>\n",
              "      <td>NaN</td>\n",
              "      <td>NaN</td>\n",
              "      <td>NaN</td>\n",
              "      <td>NaN</td>\n",
              "      <td>CID2999678</td>\n",
              "      <td>Cc1cccc(N2CCN(C(=O)C34CC5CC(CC(C5)C3)C4)CC2)c1C</td>\n",
              "    </tr>\n",
              "    <tr>\n",
              "      <th>1</th>\n",
              "      <td>0.0</td>\n",
              "      <td>0.0</td>\n",
              "      <td>NaN</td>\n",
              "      <td>NaN</td>\n",
              "      <td>0.0</td>\n",
              "      <td>0.0</td>\n",
              "      <td>0.0</td>\n",
              "      <td>NaN</td>\n",
              "      <td>NaN</td>\n",
              "      <td>NaN</td>\n",
              "      <td>0.0</td>\n",
              "      <td>NaN</td>\n",
              "      <td>0.0</td>\n",
              "      <td>NaN</td>\n",
              "      <td>NaN</td>\n",
              "      <td>0.0</td>\n",
              "      <td>0.0</td>\n",
              "      <td>CID2999679</td>\n",
              "      <td>Cn1ccnc1SCC(=O)Nc1ccc(Oc2ccccc2)cc1</td>\n",
              "    </tr>\n",
              "    <tr>\n",
              "      <th>2</th>\n",
              "      <td>NaN</td>\n",
              "      <td>NaN</td>\n",
              "      <td>0.0</td>\n",
              "      <td>NaN</td>\n",
              "      <td>NaN</td>\n",
              "      <td>NaN</td>\n",
              "      <td>NaN</td>\n",
              "      <td>NaN</td>\n",
              "      <td>NaN</td>\n",
              "      <td>NaN</td>\n",
              "      <td>NaN</td>\n",
              "      <td>NaN</td>\n",
              "      <td>NaN</td>\n",
              "      <td>NaN</td>\n",
              "      <td>NaN</td>\n",
              "      <td>NaN</td>\n",
              "      <td>0.0</td>\n",
              "      <td>CID2999672</td>\n",
              "      <td>COc1cc2c(cc1NC(=O)CN1C(=O)NC3(CCc4ccccc43)C1=O...</td>\n",
              "    </tr>\n",
              "    <tr>\n",
              "      <th>3</th>\n",
              "      <td>NaN</td>\n",
              "      <td>0.0</td>\n",
              "      <td>0.0</td>\n",
              "      <td>NaN</td>\n",
              "      <td>NaN</td>\n",
              "      <td>0.0</td>\n",
              "      <td>NaN</td>\n",
              "      <td>NaN</td>\n",
              "      <td>NaN</td>\n",
              "      <td>NaN</td>\n",
              "      <td>NaN</td>\n",
              "      <td>NaN</td>\n",
              "      <td>NaN</td>\n",
              "      <td>NaN</td>\n",
              "      <td>NaN</td>\n",
              "      <td>0.0</td>\n",
              "      <td>NaN</td>\n",
              "      <td>CID5390002</td>\n",
              "      <td>O=C1/C(=C/NC2CCS(=O)(=O)C2)c2ccccc2C(=O)N1c1cc...</td>\n",
              "    </tr>\n",
              "    <tr>\n",
              "      <th>4</th>\n",
              "      <td>0.0</td>\n",
              "      <td>NaN</td>\n",
              "      <td>NaN</td>\n",
              "      <td>NaN</td>\n",
              "      <td>0.0</td>\n",
              "      <td>NaN</td>\n",
              "      <td>0.0</td>\n",
              "      <td>0.0</td>\n",
              "      <td>NaN</td>\n",
              "      <td>NaN</td>\n",
              "      <td>NaN</td>\n",
              "      <td>NaN</td>\n",
              "      <td>NaN</td>\n",
              "      <td>NaN</td>\n",
              "      <td>NaN</td>\n",
              "      <td>NaN</td>\n",
              "      <td>NaN</td>\n",
              "      <td>CID2999670</td>\n",
              "      <td>NC(=O)NC(Cc1ccccc1)C(=O)O</td>\n",
              "    </tr>\n",
              "  </tbody>\n",
              "</table>\n",
              "</div>"
            ],
            "text/plain": [
              "   MUV-466  ...                                             smiles\n",
              "0      NaN  ...    Cc1cccc(N2CCN(C(=O)C34CC5CC(CC(C5)C3)C4)CC2)c1C\n",
              "1      0.0  ...                Cn1ccnc1SCC(=O)Nc1ccc(Oc2ccccc2)cc1\n",
              "2      NaN  ...  COc1cc2c(cc1NC(=O)CN1C(=O)NC3(CCc4ccccc43)C1=O...\n",
              "3      NaN  ...  O=C1/C(=C/NC2CCS(=O)(=O)C2)c2ccccc2C(=O)N1c1cc...\n",
              "4      0.0  ...                          NC(=O)NC(Cc1ccccc1)C(=O)O\n",
              "\n",
              "[5 rows x 19 columns]"
            ]
          },
          "metadata": {
            "tags": []
          },
          "execution_count": 10
        }
      ]
    },
    {
      "cell_type": "code",
      "metadata": {
        "id": "rsyL9y25MJ7l"
      },
      "source": [
        "reduced_data = list(data['smiles'])\n",
        "import random\n",
        "random.shuffle(reduced_data)\n",
        "\n",
        "\n",
        "reduced_data_1 = list(data_1['SMILES'])\n",
        "random.shuffle(reduced_data_1)"
      ],
      "execution_count": 14,
      "outputs": []
    },
    {
      "cell_type": "code",
      "metadata": {
        "colab": {
          "base_uri": "https://localhost:8080/"
        },
        "id": "XXEJfywEnfW9",
        "outputId": "962a4bea-4c42-4c24-94bc-3afe273e8f38"
      },
      "source": [
        "for smi in reduced_data[0:5]: \n",
        "  print(type(smi), \":\", smi)\n",
        "\n",
        "print('\\n')\n",
        "for smi in reduced_data_1[0:5]: \n",
        "  print(type(smi), \":\", smi)"
      ],
      "execution_count": 21,
      "outputs": [
        {
          "output_type": "stream",
          "text": [
            "<class 'str'> : Clc1ccc(COc2ccccn2)c(Cl)c1\n",
            "<class 'str'> : COc1ccc(Cc2nnnn2CC(=O)O)cc1\n",
            "<class 'str'> : COc1cc(C=O)ccc1OC(=O)c1ccncc1\n",
            "<class 'str'> : O=C(CN1C(=O)NC2(CCCC2)C1=O)Nc1ccc(F)cc1\n",
            "<class 'str'> : CC(=O)Nc1ccc(S(=O)(=O)N2CCC(NC(C)=O)(c3cccc(F)c3)CC2)cc1\n",
            "\n",
            "\n",
            "<class 'str'> : O[C@H]1[C@H]2C=C[C@H]3C[C@H]3[C@@H]12\n",
            "<class 'str'> : [NH-]C1ON=N[CH+][CH+]1CO\n",
            "<class 'str'> : C[NH+](C)C(C)(C=O)C=O\n",
            "<class 'str'> : N#C[C@H]1N[C@]2(C[C@@H]12)C#N\n",
            "<class 'str'> : NC1=C(C#C)C(=O)CC1\n"
          ],
          "name": "stdout"
        }
      ]
    },
    {
      "cell_type": "code",
      "metadata": {
        "id": "cZkdGFp3R7sV"
      },
      "source": [
        "# from rdkit import Chem\n",
        "\n",
        "# smis = [\"CN2C(=O)N(C)C(=O)C1=C2N=CN1C\",\n",
        "#           \"CN1C=NC2=C1C(=O)N(C)C(=O)N2C\"]\n",
        "\n",
        "# cans = [Chem.MolToSmiles(Chem.MolFromSmiles(smi),True) for smi in smis]\n",
        "# assert cans[0] == cans[1]\n",
        "# print(cans)"
      ],
      "execution_count": 22,
      "outputs": []
    },
    {
      "cell_type": "code",
      "metadata": {
        "colab": {
          "base_uri": "https://localhost:8080/"
        },
        "id": "FeIyYCj0pDev",
        "outputId": "882818e2-96f8-431b-a2a8-0f34dc251cc1"
      },
      "source": [
        "len(reduced_data)"
      ],
      "execution_count": 23,
      "outputs": [
        {
          "output_type": "execute_result",
          "data": {
            "text/plain": [
              "93087"
            ]
          },
          "metadata": {
            "tags": []
          },
          "execution_count": 23
        }
      ]
    },
    {
      "cell_type": "code",
      "metadata": {
        "colab": {
          "base_uri": "https://localhost:8080/"
        },
        "id": "HmEKULgNMwUO",
        "outputId": "7d25cb63-b23d-4c64-cb73-905b958781d2"
      },
      "source": [
        "mols = list(filter(lambda x: x is not None, [Chem.MolFromSmiles(x) for x in reduced_data]))\n",
        "print('how many molecules obtained from smiles: ', len(mols))\n",
        "print(\"data type of mols: \", type(mols))"
      ],
      "execution_count": 24,
      "outputs": [
        {
          "output_type": "stream",
          "text": [
            "how many molecules obtained from smiles:  93087\n",
            "data type of mols:  <class 'list'>\n"
          ],
          "name": "stdout"
        }
      ]
    },
    {
      "cell_type": "code",
      "metadata": {
        "colab": {
          "base_uri": "https://localhost:8080/",
          "height": 35
        },
        "id": "txLpHxJoZ4DJ",
        "outputId": "982c24e1-33fe-47db-f8c7-baf65636f2e0"
      },
      "source": [
        "Chem.MolToSmiles(mols[0])"
      ],
      "execution_count": 25,
      "outputs": [
        {
          "output_type": "execute_result",
          "data": {
            "application/vnd.google.colaboratory.intrinsic+json": {
              "type": "string"
            },
            "text/plain": [
              "'Clc1ccc(COc2ccccn2)c(Cl)c1'"
            ]
          },
          "metadata": {
            "tags": []
          },
          "execution_count": 25
        }
      ]
    },
    {
      "cell_type": "code",
      "metadata": {
        "id": "v-AE0AEGNEgT"
      },
      "source": [
        "import logging\n",
        "from deepchem.utils.typing import RDKitAtom, RDKitBond, RDKitMol, List\n",
        "from deepchem.feat.base_classes import MolecularFeaturizer\n",
        "\n",
        "logger = logging.getLogger(__name__)\n",
        "\n",
        "class GraphMatrix():\n",
        "    \"\"\"\n",
        "    This is class used to store data for MolGAN neural networks.\n",
        "    \n",
        "    Parameters\n",
        "    ----------\n",
        "    node_features: np.ndarray\n",
        "      Node feature matrix with shape [num_nodes, num_node_features]\n",
        "    edge_features: np.ndarray,\n",
        "      Edge feature matrix with shape [num_nodes, num_nodes]\n",
        "      \n",
        "    Returns\n",
        "    -------\n",
        "    graph: GraphMatrix\n",
        "      A molecule graph with some features.\n",
        "    \"\"\"   \n",
        "    \n",
        "    def __init__(self,adjacency_matrix: np.ndarray, node_features: np.ndarray):\n",
        "        self.adjacency_matrix = adjacency_matrix\n",
        "        self.node_features = node_features\n",
        "\n",
        "\n",
        "class MolGanFeaturizer(MolecularFeaturizer):\n",
        "    \"\"\"This class implements featurizer used with MolGAN de-novo molecular generation based on:\n",
        "    `MolGAN: An implicit generative model for small molecular graphs`<https://arxiv.org/abs/1805.11973>`_.\n",
        "    The default representation is in form of GraphMatrix object, being wrapper for two matrices containing atom and bond type information.\n",
        "    The class also provides reverse capabilities\"\"\"\n",
        "    \n",
        "    def __init__(self,\n",
        "                max_atom_count:int = 9,\n",
        "                kekulize:bool = True,\n",
        "                bond_labels: List[RDKitBond] = None,\n",
        "                atom_labels: List[int] = None):\n",
        "        \"\"\"\n",
        "        Parameters\n",
        "        ----------\n",
        "        max_atom_count: int, default 9\n",
        "            Maximum number of atoms used for creation of adjacency matrix, molecules cannot have more atoms than this number; implicit hydrogens do not count.\n",
        "        kekulize: bool, default True\n",
        "            Should molecules be kekulized; solves number of issues with defeaturization when used.\n",
        "        bond_labels: List[RDKitBond]\n",
        "            List containing types of bond used for generation of adjacency matrix\n",
        "        atom_labels: List[int]\n",
        "            List of atomic numbers used for generation of node features\n",
        "        \"\"\"\n",
        "        self.max_atom_count = max_atom_count\n",
        "        self.kekulize = kekulize\n",
        "\n",
        "        #bond labels\n",
        "        if bond_labels is None:\n",
        "            self.bond_labels = [\n",
        "                Chem.rdchem.BondType.ZERO\n",
        "                ,Chem.rdchem.BondType.SINGLE\n",
        "                ,Chem.rdchem.BondType.DOUBLE\n",
        "                ,Chem.rdchem.BondType.TRIPLE\n",
        "                ,Chem.rdchem.BondType.AROMATIC]\n",
        "        else:\n",
        "            self.bond_labels = bond_labels\n",
        "\n",
        "        #atom labels\n",
        "        if atom_labels is None:\n",
        "            self.atom_labels = [0, 6, 7, 8, 9] #C,N,O,F\n",
        "        else:\n",
        "            self.atom_labels = atom_labels\n",
        "\n",
        "        #create bond encoders and decoders\n",
        "        self.bond_encoder = {l: i for i, l in enumerate(self.bond_labels)}\n",
        "        self.bond_decoder = {i: l for i, l in enumerate(self.bond_labels)}\n",
        "        #create atom encoders and decoders\n",
        "        self.atom_encoder = {l: i for i, l in enumerate(self.atom_labels)}\n",
        "        self.atom_decoder = {i: l for i, l in enumerate(self.atom_labels)}\n",
        "    \n",
        "    def _featurize(self, mol: RDKitMol) -> GraphMatrix:\n",
        "        \"\"\"Calculate adjacency matrix and nodes features for RDKitMol.\n",
        "        \n",
        "        Parameters\n",
        "        ----------\n",
        "        mol: rdkit.Chem.rdchem.Mol\n",
        "          RDKit mol object.\n",
        "        Returns\n",
        "        -------\n",
        "        graph: GraphMatrix\n",
        "          A molecule graph with some features.\n",
        "        \"\"\"\n",
        "        if self.kekulize:\n",
        "            Chem.Kekulize(mol)\n",
        "            \n",
        "        A = np.zeros(shape=(self.max_atom_count, self.max_atom_count), dtype=np.float32)\n",
        "        bonds = mol.GetBonds()\n",
        "\n",
        "        begin, end = [b.GetBeginAtomIdx() for b in bonds], [b.GetEndAtomIdx() for b in bonds]\n",
        "        bond_type = [self.bond_encoder[b.GetBondType()] for b in bonds]\n",
        "\n",
        "        A[begin, end] = bond_type\n",
        "        A[end, begin] = bond_type\n",
        "\n",
        "        degree = np.sum(A[:mol.GetNumAtoms(), :mol.GetNumAtoms()], axis=-1)\n",
        "        X = np.array([self.atom_encoder[atom.GetAtomicNum()] for atom in mol.GetAtoms()] + [0] * (self.max_atom_count - mol.GetNumAtoms()), dtype=np.int32)       \n",
        "        graph = GraphMatrix(A,X)\n",
        "           \n",
        "        return graph if (degree > 0).all() else None\n",
        "    \n",
        "    def _defeaturize(self, graph_matrix: GraphMatrix, sanitize:bool = True, cleanup=True) ->RDKitMol:\n",
        "        \"\"\"Recreate RDKitMol from GraphMatrix object. For working correctly same object needs to be used for featurization and defeaturization.\n",
        "        \n",
        "        Parameters\n",
        "        ----------\n",
        "        graph_matrix: GraphMatrix\n",
        "            GraphMatrix object.\n",
        "        sanitize: bool, default True\n",
        "            Should RDKit sanitization be included in the process.\n",
        "        cleanup: bool, default True\n",
        "            Splits salts and removes compounds with \"*\" atom types\n",
        "            \n",
        "        Returns\n",
        "        -------\n",
        "        mol: RDKitMol object\n",
        "            RDKitMol object representing molecule.\n",
        "        \"\"\"\n",
        "        \n",
        "        node_labels = graph_matrix.node_features\n",
        "        edge_labels = graph_matrix.adjacency_matrix\n",
        "\n",
        "        mol = Chem.RWMol()\n",
        "\n",
        "        for node_label in node_labels:\n",
        "            mol.AddAtom(Chem.Atom(self.atom_decoder[node_label]))\n",
        "\n",
        "        for start, end in zip(*np.nonzero(edge_labels)):\n",
        "            if start > end:\n",
        "                mol.AddBond(int(start), int(end), self.bond_decoder[edge_labels[start, end]])\n",
        "\n",
        "        if sanitize:\n",
        "            try:\n",
        "                Chem.SanitizeMol(mol)\n",
        "            except Exception:\n",
        "                mol = None\n",
        "                \n",
        "        if cleanup:\n",
        "            try:\n",
        "                smiles = Chem.MolToSmiles(mol)\n",
        "                smiles = max(smiles.split('.'), key=len)\n",
        "                if \"*\" not in smiles:\n",
        "                    mol = Chem.MolFromSmiles(smiles)\n",
        "                else:\n",
        "                    mol = None\n",
        "            except Exception:\n",
        "                mol = None\n",
        "            \n",
        "\n",
        "        return mol\n",
        "    \n",
        "    def defeaturize(self, graphs, log_every_n=1000) -> np.ndarray:\n",
        "        \"\"\"Calculates molecules from correspoing GraphMatrix objects.\n",
        "        Parameters\n",
        "        ----------\n",
        "        graphs: GraphMatrix / iterable\n",
        "          GraphMatrix object or corresponding iterable\n",
        "        log_every_n: int, default 1000\n",
        "          Logging messages reported every `log_every_n` samples.\n",
        "        Returns\n",
        "        -------\n",
        "        features: np.ndarray\n",
        "          A numpy array containing RDKitMol objext.\n",
        "        \"\"\"\n",
        "        # Special case handling of single molecule\n",
        "        if isinstance(graphs, GraphMatrix):\n",
        "            graphs = [graphs]\n",
        "        else:\n",
        "            # Convert iterables to list\n",
        "            graphs = list(graphs)\n",
        "\n",
        "        molecules = []\n",
        "        for i, gr in enumerate(graphs):\n",
        "            if i % log_every_n == 0:\n",
        "                logger.info(\"Featurizing datapoint %i\" % i)\n",
        "\n",
        "            try:\n",
        "                molecules.append(self._defeaturize(gr))\n",
        "            except Exception as e:\n",
        "                logger.warning(\"Failed to defeaturize datapoint %d, %s. Appending empty array\", i,gr)\n",
        "                logger.warning(\"Exception message: {}\".format(e))\n",
        "                molecules.append(np.array([]))\n",
        "\n",
        "        molecules = np.asarray(molecules)\n",
        "        return molecules"
      ],
      "execution_count": 26,
      "outputs": []
    },
    {
      "cell_type": "code",
      "metadata": {
        "id": "Nmv2EfjPNIt9"
      },
      "source": [
        "import tensorflow as tf\n",
        "from tensorflow import keras\n",
        "from tensorflow.keras import layers\n",
        "from deepchem.models import WGAN\n",
        "\n",
        "from layers.layers import GraphEncoderLayer\n",
        "\n",
        "class MolGAN(WGAN):\n",
        "    \"\"\"Model for automatic generation of compounds based on GAN architecture described by Nicola De Cao et al.\n",
        "    `MolGAN: An implicit generative model for small molecular graphs`<https://arxiv.org/abs/1805.11973>`_.\n",
        "    It uses adjacency matrix and node features as inputs, both need to be converted to one hot representation before use.\n",
        "    \n",
        "    \n",
        "    Examples\n",
        "    --------\n",
        "    gan = MolGAN(learning_rate=ExponentialDecay(0.001, 0.9, 5000))\n",
        "    dataset = dc.data.NumpyDataset([x.adjacency_matrix for x in limited],[x.node_features for x in limited])\n",
        "    def iterbatches(epochs):\n",
        "        for i in range(epochs):\n",
        "            for batch in dataset.iterbatches(batch_size=gan.batch_size, pad_batches=True):\n",
        "                adjacency_tensor = tf.one_hot(batch[0], gan.edges)\n",
        "                node_tesor = tf.one_hot(batch[1], gan.nodes)\n",
        "                yield {gan.data_inputs[0]: adjacency_tensor, gan.data_inputs[1]:node_tesor}\n",
        "    gan.fit_gan(iterbatches(10), generator_steps=0.2, checkpoint_interval=5000)\n",
        "    \n",
        "    \"\"\"\n",
        "    \n",
        "    def __init__(self\n",
        "                 ,edges: int = 5\n",
        "                 ,vertices:int = 9\n",
        "                 ,nodes: int = 5\n",
        "                 ,embedding_dim: int = 10\n",
        "                 ,dropout_rate: float = 0.\n",
        "                 ,name:str =''\n",
        "                 , **kwargs):\n",
        "        \"\"\"\n",
        "        Parameters\n",
        "        ----------\n",
        "        edges: int, default 5\n",
        "            Number of bond types includes BondType.Zero\n",
        "        vertices: int, default 9\n",
        "            Max number of atoms in adjacency and node features matrices\n",
        "        nodes: int, default 5\n",
        "            Number of atom types in node features matrix\n",
        "        embedding_dim: int, default 10\n",
        "            Size of noise input\n",
        "        dropout_rate: float, default = 0.\n",
        "            Rate of dropout used across whole model\n",
        "        name: str, default ''\n",
        "            Name of the model\n",
        "        \"\"\"\n",
        "\n",
        "        self.edges = edges\n",
        "        self.vertices = vertices\n",
        "        self.nodes =nodes\n",
        "        self.embedding_dim = embedding_dim\n",
        "        self.dropout_rate = dropout_rate\n",
        "        \n",
        "        super(MolGAN, self).__init__(name=name, **kwargs)\n",
        "\n",
        "    def get_noise_input_shape(self):\n",
        "        return (self.embedding_dim,)\n",
        "\n",
        "    def get_data_input_shapes(self):\n",
        "        return [(self.vertices, self.vertices, self.edges), (self.vertices, self.nodes)]\n",
        "\n",
        "    def create_generator(self):\n",
        "        \n",
        "        print(\"creating generator...\")\n",
        "\n",
        "        input_layer = layers.Input(shape=(self.embedding_dim,))\n",
        "        x = layers.Dense(128, activation='tanh')(input_layer)\n",
        "        x = layers.Dropout(self.dropout_rate)(x)\n",
        "        x = layers.Dense(256, activation='tanh')(x)\n",
        "        x = layers.Dropout(self.dropout_rate)(x)\n",
        "        x = layers.Dense(512, activation='tanh')(x)\n",
        "        x = layers.Dropout(self.dropout_rate)(x)\n",
        "\n",
        "        #EDGES LOGITS\n",
        "        edges_logits = layers.Dense(units=self.edges*self.vertices*self.vertices, activation=None)(x)\n",
        "        edges_logits = layers.Reshape((self.edges, self.vertices, self.vertices))(edges_logits)\n",
        "        matrix_transpose = layers.Permute((1,3,2))(edges_logits)\n",
        "        edges_logits = (edges_logits + matrix_transpose)/2\n",
        "        edges_logits = layers.Permute((2,3,1))(edges_logits)\n",
        "        edges_logits = layers.Dropout(self.dropout_rate)(edges_logits)\n",
        "        \n",
        "        #used during training of the model\n",
        "        edges_softmax = tf.nn.softmax(edges_logits)\n",
        "\n",
        "        #NODES LOGITS\n",
        "        nodes_logits = layers.Dense(units=(self.vertices * self.nodes), activation=None)(x)\n",
        "        nodes_logits = layers.Reshape((self.vertices, self.nodes))(nodes_logits)\n",
        "        nodes_logits = layers.Dropout(self.dropout_rate)(nodes_logits)\n",
        "        \n",
        "        #used during training of the model\n",
        "        nodes_softmax = tf.nn.softmax(nodes_logits)\n",
        "        \n",
        "        #used to generate molecules, consider returning just logits and then use additonal layer when molecules needs to generated\n",
        "        \n",
        "        #used for compound generation, consider removing this from this section and just return un\n",
        "        e_gumbel_logits = edges_logits - tf.math.log(- tf.math.log(tf.random.uniform(tf.shape(edges_logits), dtype=edges_logits.dtype)))\n",
        "        e_gumbel_argmax = tf.one_hot(tf.argmax(e_gumbel_logits, axis=-1), depth=e_gumbel_logits.shape[-1], dtype=e_gumbel_logits.dtype) \n",
        "        e_argmax = tf.argmax(e_gumbel_argmax, axis=-1)\n",
        "        \n",
        "        \n",
        "        #used for compound generation\n",
        "        n_gumbel_logits = nodes_logits - tf.math.log(- tf.math.log(tf.random.uniform(tf.shape(nodes_logits), dtype=nodes_logits.dtype)))\n",
        "        n_gumbel_argmax = tf.one_hot(tf.argmax(n_gumbel_logits, axis=-1), depth=n_gumbel_logits.shape[-1], dtype=n_gumbel_logits.dtype)\n",
        "        n_argmax = tf.argmax(n_gumbel_argmax, axis=-1)\n",
        "        \n",
        "        #final model\n",
        "        return keras.Model(inputs = input_layer, outputs=[edges_softmax, nodes_softmax,e_argmax, n_argmax])\n",
        "    \n",
        "    def create_discriminator(self):\n",
        "        adjacency_tensor= layers.Input(shape=(self.vertices, self.vertices, self.edges))\n",
        "        node_tensor = layers.Input(shape=(self.vertices, self.nodes))\n",
        "\n",
        "        print(\"creating discriminator...\")\n",
        "\n",
        "        graph = GraphEncoderLayer(units = [(128,64),128], dropout_rate= self.dropout_rate, edges=self.edges)([adjacency_tensor,node_tensor])\n",
        "        dense = layers.Dense(units=128, activation='tanh')(graph)\n",
        "        dense = layers.Dropout(self.dropout_rate)(dense)\n",
        "        dense = layers.Dense(units=64, activation='tanh')(dense)\n",
        "        dense = layers.Dropout(self.dropout_rate)(dense)\n",
        "        output = layers.Dense(units=1)(dense)\n",
        "               \n",
        "        return keras.Model(inputs=[(adjacency_tensor, node_tensor)], outputs=[output])\n",
        "    \n",
        "    def predict_gan_generator(self,\n",
        "                            batch_size=1,\n",
        "                            noise_input=None,\n",
        "                            generator_index=0):\n",
        "        \"\"\"Use the GAN to generate a batch of samples.\n",
        "        Parameters\n",
        "        ----------\n",
        "        batch_size: int\n",
        "          the number of samples to generate.  If either noise_input or\n",
        "          conditional_inputs is specified, this argument is ignored since the batch\n",
        "          size is then determined by the size of that argument.\n",
        "        noise_input: array\n",
        "          the value to use for the generator's noise input.  If None (the default),\n",
        "          get_noise_batch() is called to generate a random input, so each call will\n",
        "          produce a new set of samples.\n",
        "        generator_index: int\n",
        "          the index of the generator (between 0 and n_generators-1) to use for\n",
        "          generating the samples.\n",
        "        Returns\n",
        "        -------\n",
        "        An array (if the generator has only one output) or list of arrays (if it has\n",
        "        multiple outputs) containing the generated samples.\n",
        "        \"\"\"\n",
        "        if noise_input is not None:\n",
        "            batch_size = len(noise_input)\n",
        "        if noise_input is None:\n",
        "            noise_input = self.get_noise_batch(batch_size)\n",
        "        inputs = noise_input\n",
        "        _,_,adjacency_matrix, nodes_features = gan.generators[0](inputs, training=False)\n",
        "        graphs = [GraphMatrix(i,j) for i,j in zip(adjacency_matrix.numpy(),nodes_features.numpy())] \n",
        "        return graphs"
      ],
      "execution_count": 27,
      "outputs": []
    },
    {
      "cell_type": "code",
      "metadata": {
        "colab": {
          "base_uri": "https://localhost:8080/"
        },
        "id": "sKrgxhbz0tIZ",
        "outputId": "9e4f046d-d46e-48a5-9fe2-3f44e6d7e659"
      },
      "source": [
        "a = reduced_data[0:5]\n",
        "b = mols[0:5]\n",
        "print(a)\n",
        "print(b)\n",
        "\n",
        "c = [\"CN2C(=O)N(C)C(=O)C1=C2N=CN1C\", \"CN1C=NC2=C1C(=O)N(C)C(=O)N2C\"]\n",
        "d = reduced_data_1[0:5]\n",
        "print(d)"
      ],
      "execution_count": 38,
      "outputs": [
        {
          "output_type": "stream",
          "text": [
            "['Clc1ccc(COc2ccccn2)c(Cl)c1', 'COc1ccc(Cc2nnnn2CC(=O)O)cc1', 'COc1cc(C=O)ccc1OC(=O)c1ccncc1', 'O=C(CN1C(=O)NC2(CCCC2)C1=O)Nc1ccc(F)cc1', 'CC(=O)Nc1ccc(S(=O)(=O)N2CCC(NC(C)=O)(c3cccc(F)c3)CC2)cc1']\n",
            "[<rdkit.Chem.rdchem.Mol object at 0x7fb8d550b030>, <rdkit.Chem.rdchem.Mol object at 0x7fb8d550bdf0>, <rdkit.Chem.rdchem.Mol object at 0x7fb8d550b170>, <rdkit.Chem.rdchem.Mol object at 0x7fb8d550bb20>, <rdkit.Chem.rdchem.Mol object at 0x7fb8d550b710>]\n",
            "['O[C@H]1[C@H]2C=C[C@H]3C[C@H]3[C@@H]12', '[NH-]C1ON=N[CH+][CH+]1CO', 'C[NH+](C)C(C)(C=O)C=O', 'N#C[C@H]1N[C@]2(C[C@@H]12)C#N', 'NC1=C(C#C)C(=O)CC1']\n"
          ],
          "name": "stdout"
        }
      ]
    },
    {
      "cell_type": "code",
      "metadata": {
        "colab": {
          "base_uri": "https://localhost:8080/"
        },
        "id": "_CHEwswn10_u",
        "outputId": "c7253a63-f6e5-40f3-f57f-bf4e2a3aba3c"
      },
      "source": [
        "mols = reduced_data[0:5]\n",
        "for smi in mols:\n",
        "  print(smi)\n",
        "\n",
        "\n",
        "print('\\n')\n",
        "mols_1 = reduced_data_1[0:5]\n",
        "for smi in mols_1: \n",
        "  print(smi)"
      ],
      "execution_count": 47,
      "outputs": [
        {
          "output_type": "stream",
          "text": [
            "Clc1ccc(COc2ccccn2)c(Cl)c1\n",
            "COc1ccc(Cc2nnnn2CC(=O)O)cc1\n",
            "COc1cc(C=O)ccc1OC(=O)c1ccncc1\n",
            "O=C(CN1C(=O)NC2(CCCC2)C1=O)Nc1ccc(F)cc1\n",
            "CC(=O)Nc1ccc(S(=O)(=O)N2CCC(NC(C)=O)(c3cccc(F)c3)CC2)cc1\n",
            "\n",
            "\n",
            "O[C@H]1[C@H]2C=C[C@H]3C[C@H]3[C@@H]12\n",
            "[NH-]C1ON=N[CH+][CH+]1CO\n",
            "C[NH+](C)C(C)(C=O)C=O\n",
            "N#C[C@H]1N[C@]2(C[C@@H]12)C#N\n",
            "NC1=C(C#C)C(=O)CC1\n"
          ],
          "name": "stdout"
        }
      ]
    },
    {
      "cell_type": "code",
      "metadata": {
        "colab": {
          "base_uri": "https://localhost:8080/"
        },
        "id": "NmwllU5yNPTI",
        "outputId": "5745826b-8e00-4383-df94-67b5ed58cfe4"
      },
      "source": [
        "#create featurizer\n",
        "feat = MolGanFeaturizer()\n",
        "#featurize molecules\n",
        "limited = feat.featurize(mols)\n",
        "#Remove empty objects\n",
        "limited = list(filter(lambda x: x is not None, limited))"
      ],
      "execution_count": 48,
      "outputs": [
        {
          "output_type": "stream",
          "text": [
            "Failed to featurize datapoint 0, Clc1ccc(COc2ccccn2)c(Cl)c1. Appending empty array\n",
            "Exception message: index 14 is out of bounds for axis 0 with size 9\n",
            "Failed to featurize datapoint 1, COc1ccc(Cc2nnnn2CC(=O)O)cc1. Appending empty array\n",
            "Exception message: index 14 is out of bounds for axis 0 with size 9\n",
            "Failed to featurize datapoint 2, COc1cc(C=O)ccc1OC(=O)c1ccncc1. Appending empty array\n",
            "Exception message: index 12 is out of bounds for axis 0 with size 9\n",
            "Failed to featurize datapoint 3, O=C(CN1C(=O)NC2(CCCC2)C1=O)Nc1ccc(F)cc1. Appending empty array\n",
            "Exception message: index 13 is out of bounds for axis 0 with size 9\n",
            "Failed to featurize datapoint 4, CC(=O)Nc1ccc(S(=O)(=O)N2CCC(NC(C)=O)(c3cccc(F)c3)CC2)cc1. Appending empty array\n",
            "Exception message: index 17 is out of bounds for axis 0 with size 9\n"
          ],
          "name": "stderr"
        }
      ]
    },
    {
      "cell_type": "code",
      "metadata": {
        "id": "MKSijVde2Mje"
      },
      "source": [
        "#create featurizer\n",
        "feat = MolGanFeaturizer()\n",
        "#featurize molecules\n",
        "limited = feat.featurize(mols_1)\n",
        "#Remove empty objects\n",
        "limited = list(filter(lambda x: x is not None, limited))"
      ],
      "execution_count": 49,
      "outputs": []
    },
    {
      "cell_type": "code",
      "metadata": {
        "id": "snIKkrf4NSIQ"
      },
      "source": [
        ""
      ],
      "execution_count": null,
      "outputs": []
    }
  ]
}