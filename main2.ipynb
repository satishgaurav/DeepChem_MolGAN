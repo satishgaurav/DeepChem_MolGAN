{
  "nbformat": 4,
  "nbformat_minor": 0,
  "metadata": {
    "kernelspec": {
      "display_name": "Python 3",
      "language": "python",
      "name": "python3"
    },
    "language_info": {
      "codemirror_mode": {
        "name": "ipython",
        "version": 3
      },
      "file_extension": ".py",
      "mimetype": "text/x-python",
      "name": "python",
      "nbconvert_exporter": "python",
      "pygments_lexer": "ipython3",
      "version": "3.8.6"
    },
    "colab": {
      "name": "main.ipynb",
      "provenance": [],
      "collapsed_sections": [],
      "include_colab_link": true
    }
  },
  "cells": [
    {
      "cell_type": "markdown",
      "metadata": {
        "id": "view-in-github",
        "colab_type": "text"
      },
      "source": [
        "<a href=\"https://colab.research.google.com/github/satishgaurav/DeepChem_MolGAN/blob/master/main2.ipynb\" target=\"_parent\"><img src=\"https://colab.research.google.com/assets/colab-badge.svg\" alt=\"Open In Colab\"/></a>"
      ]
    },
    {
      "cell_type": "code",
      "metadata": {
        "colab": {
          "base_uri": "https://localhost:8080/"
        },
        "id": "BcxbY5aCbj8P",
        "outputId": "0781eec2-d66f-4eba-c51c-fb5043e9f7d5"
      },
      "source": [
        "from google.colab import drive\n",
        "drive.mount('/content/drive')"
      ],
      "execution_count": 1,
      "outputs": [
        {
          "output_type": "stream",
          "text": [
            "Mounted at /content/drive\n"
          ],
          "name": "stdout"
        }
      ]
    },
    {
      "cell_type": "code",
      "metadata": {
        "id": "0ztQbbozbhAT"
      },
      "source": [
        "## Print all variable\n",
        "from IPython.core.interactiveshell import InteractiveShell\n",
        "InteractiveShell.ast_node_interactivity = \"all\""
      ],
      "execution_count": 2,
      "outputs": []
    },
    {
      "cell_type": "code",
      "metadata": {
        "colab": {
          "base_uri": "https://localhost:8080/"
        },
        "id": "L2TVzjOvbiAX",
        "outputId": "f11c6764-1455-4779-ff64-7bc76f890e89"
      },
      "source": [
        "## Install deepchem \n",
        "!curl -Lo conda_installer.py https://raw.githubusercontent.com/deepchem/deepchem/master/scripts/colab_install.py\n",
        "import conda_installer\n",
        "conda_installer.install()\n",
        "!/root/miniconda/bin/conda info -e\n",
        "\n",
        "!pip install --pre deepchem"
      ],
      "execution_count": 3,
      "outputs": [
        {
          "output_type": "stream",
          "text": [
            "  % Total    % Received % Xferd  Average Speed   Time    Time     Time  Current\n",
            "                                 Dload  Upload   Total   Spent    Left  Speed\n",
            "\r  0     0    0     0    0     0      0      0 --:--:-- --:--:-- --:--:--     0\r100  3501  100  3501    0     0  13211      0 --:--:-- --:--:-- --:--:-- 13211\n"
          ],
          "name": "stdout"
        },
        {
          "output_type": "stream",
          "text": [
            "add /root/miniconda/lib/python3.7/site-packages to PYTHONPATH\n",
            "python version: 3.7.10\n",
            "fetching installer from https://repo.continuum.io/miniconda/Miniconda3-latest-Linux-x86_64.sh\n",
            "done\n",
            "installing miniconda to /root/miniconda\n",
            "done\n",
            "installing rdkit, openmm, pdbfixer\n",
            "added omnia to channels\n",
            "added conda-forge to channels\n",
            "done\n",
            "conda packages installation finished!\n"
          ],
          "name": "stderr"
        },
        {
          "output_type": "stream",
          "text": [
            "# conda environments:\n",
            "#\n",
            "base                  *  /root/miniconda\n",
            "\n",
            "Collecting deepchem\n",
            "\u001b[?25l  Downloading https://files.pythonhosted.org/packages/04/7f/3f678587e621d1b904ed6d1af65e353b1d681d6b9f4ffaf243c79745c654/deepchem-2.6.0.dev20210403043508-py3-none-any.whl (552kB)\n",
            "\u001b[K     |████████████████████████████████| 552kB 8.6MB/s \n",
            "\u001b[?25hRequirement already satisfied: joblib in /usr/local/lib/python3.7/dist-packages (from deepchem) (1.0.1)\n",
            "Requirement already satisfied: pandas in /usr/local/lib/python3.7/dist-packages (from deepchem) (1.1.5)\n",
            "Requirement already satisfied: numpy in /usr/local/lib/python3.7/dist-packages (from deepchem) (1.19.5)\n",
            "Requirement already satisfied: scipy in /usr/local/lib/python3.7/dist-packages (from deepchem) (1.4.1)\n",
            "Requirement already satisfied: scikit-learn in /usr/local/lib/python3.7/dist-packages (from deepchem) (0.22.2.post1)\n",
            "Requirement already satisfied: python-dateutil>=2.7.3 in /usr/local/lib/python3.7/dist-packages (from pandas->deepchem) (2.8.1)\n",
            "Requirement already satisfied: pytz>=2017.2 in /usr/local/lib/python3.7/dist-packages (from pandas->deepchem) (2018.9)\n",
            "Requirement already satisfied: six>=1.5 in /usr/local/lib/python3.7/dist-packages (from python-dateutil>=2.7.3->pandas->deepchem) (1.15.0)\n",
            "Installing collected packages: deepchem\n",
            "Successfully installed deepchem-2.6.0.dev20210403043508\n"
          ],
          "name": "stdout"
        }
      ]
    },
    {
      "cell_type": "code",
      "metadata": {
        "id": "xkYNUInDbcFF"
      },
      "source": [
        "import tensorflow as tf"
      ],
      "execution_count": 4,
      "outputs": []
    },
    {
      "cell_type": "code",
      "metadata": {
        "id": "Cg_U03GDbcFI"
      },
      "source": [
        "import deepchem as dc\n",
        "import rdkit as rdkit\n",
        "import rdkit.Chem as Chem\n",
        "import rdkit.Chem.PandasTools as pt\n",
        "import pandas as pd"
      ],
      "execution_count": 5,
      "outputs": []
    },
    {
      "cell_type": "code",
      "metadata": {
        "id": "prKaY5qhbcFI"
      },
      "source": [
        "import numpy as np"
      ],
      "execution_count": 6,
      "outputs": []
    },
    {
      "cell_type": "code",
      "metadata": {
        "colab": {
          "base_uri": "https://localhost:8080/"
        },
        "id": "gucgulMZbcFI",
        "outputId": "f8031a19-70ae-42f2-fbe4-3d49eff77a92"
      },
      "source": [
        "print('tf version:', tf.__version__, '\\nGPU avilable?:', tf.config.list_physical_devices('GPU'))\n",
        "print('rdkit version: ', rdkit.__version__)\n",
        "print('DeepChem version', dc.__version__)"
      ],
      "execution_count": 7,
      "outputs": [
        {
          "output_type": "stream",
          "text": [
            "tf version: 2.4.1 \n",
            "GPU avilable?: []\n",
            "rdkit version:  2020.09.1\n",
            "DeepChem version 2.6.0.dev\n"
          ],
          "name": "stdout"
        }
      ]
    },
    {
      "cell_type": "code",
      "metadata": {
        "id": "cVWeNu44cdFZ"
      },
      "source": [
        "import sys\n",
        "sys.path.insert(1, '/content/drive/MyDrive/DeepChem_MolGAN/')"
      ],
      "execution_count": 8,
      "outputs": []
    },
    {
      "cell_type": "code",
      "metadata": {
        "id": "E3vp9YCfbcFJ"
      },
      "source": [
        "from layers.layers import GraphEncoderLayer\n",
        "from tensorflow.keras import layers"
      ],
      "execution_count": 9,
      "outputs": []
    },
    {
      "cell_type": "code",
      "metadata": {
        "id": "Qui-R9NYbcFJ"
      },
      "source": [
        "data = pd.read_csv('/content/drive/MyDrive/DeepChem_MolGAN/data/QM9_HAC_5_9_.csv')"
      ],
      "execution_count": 10,
      "outputs": []
    },
    {
      "cell_type": "code",
      "metadata": {
        "id": "PkzZSu2ibcFJ"
      },
      "source": [
        "reduced_data = list(data['SMILES'])\n",
        "import random\n",
        "random.shuffle(reduced_data)"
      ],
      "execution_count": 11,
      "outputs": []
    },
    {
      "cell_type": "code",
      "metadata": {
        "colab": {
          "base_uri": "https://localhost:8080/"
        },
        "id": "4xZK81MLbcFJ",
        "outputId": "7a5d18e7-c251-453b-9a61-4a517ef9bdf0"
      },
      "source": [
        "mols = list(filter(lambda x: x is not None, [Chem.MolFromSmiles(x) for x in reduced_data]))\n",
        "print('how many molecules obtained from smiles: ', len(mols))"
      ],
      "execution_count": 12,
      "outputs": [
        {
          "output_type": "stream",
          "text": [
            "how many molecules obtained from smiles:  132432\n"
          ],
          "name": "stdout"
        }
      ]
    },
    {
      "cell_type": "code",
      "metadata": {
        "id": "0quuUXyxbcFJ"
      },
      "source": [
        "import logging\n",
        "from deepchem.utils.typing import RDKitAtom, RDKitBond, RDKitMol, List\n",
        "from deepchem.feat.base_classes import MolecularFeaturizer\n",
        "\n",
        "logger = logging.getLogger(__name__)\n",
        "\n",
        "class GraphMatrix():\n",
        "    \"\"\"\n",
        "    This is class used to store data for MolGAN neural networks.\n",
        "    \n",
        "    Parameters\n",
        "    ----------\n",
        "    node_features: np.ndarray\n",
        "      Node feature matrix with shape [num_nodes, num_node_features]\n",
        "    edge_features: np.ndarray,\n",
        "      Edge feature matrix with shape [num_nodes, num_nodes]\n",
        "      \n",
        "    Returns\n",
        "    -------\n",
        "    graph: GraphMatrix\n",
        "      A molecule graph with some features.\n",
        "    \"\"\"   \n",
        "    \n",
        "    def __init__(self,adjacency_matrix: np.ndarray, node_features: np.ndarray):\n",
        "        self.adjacency_matrix = adjacency_matrix\n",
        "        self.node_features = node_features\n",
        "\n",
        "\n",
        "class MolGanFeaturizer(MolecularFeaturizer):\n",
        "    \"\"\"This class implements featurizer used with MolGAN de-novo molecular generation based on:\n",
        "    `MolGAN: An implicit generative model for small molecular graphs`<https://arxiv.org/abs/1805.11973>`_.\n",
        "    The default representation is in form of GraphMatrix object, being wrapper for two matrices containing atom and bond type information.\n",
        "    The class also provides reverse capabilities\"\"\"\n",
        "    \n",
        "    def __init__(self,\n",
        "                max_atom_count:int = 9,\n",
        "                kekulize:bool = True,\n",
        "                bond_labels: List[RDKitBond] = None,\n",
        "                atom_labels: List[int] = None):\n",
        "        \"\"\"\n",
        "        Parameters\n",
        "        ----------\n",
        "        max_atom_count: int, default 9\n",
        "            Maximum number of atoms used for creation of adjacency matrix, molecules cannot have more atoms than this number; implicit hydrogens do not count.\n",
        "        kekulize: bool, default True\n",
        "            Should molecules be kekulized; solves number of issues with defeaturization when used.\n",
        "        bond_labels: List[RDKitBond]\n",
        "            List containing types of bond used for generation of adjacency matrix\n",
        "        atom_labels: List[int]\n",
        "            List of atomic numbers used for generation of node features\n",
        "        \"\"\"\n",
        "        self.max_atom_count = max_atom_count\n",
        "        self.kekulize = kekulize\n",
        "\n",
        "        #bond labels\n",
        "        if bond_labels is None:\n",
        "            self.bond_labels = [\n",
        "                Chem.rdchem.BondType.ZERO\n",
        "                ,Chem.rdchem.BondType.SINGLE\n",
        "                ,Chem.rdchem.BondType.DOUBLE\n",
        "                ,Chem.rdchem.BondType.TRIPLE\n",
        "                ,Chem.rdchem.BondType.AROMATIC]\n",
        "        else:\n",
        "            self.bond_labels = bond_labels\n",
        "\n",
        "        #atom labels\n",
        "        if atom_labels is None:\n",
        "            self.atom_labels = [0, 6, 7, 8, 9] #C,N,O,F\n",
        "        else:\n",
        "            self.atom_labels = atom_labels\n",
        "\n",
        "        #create bond encoders and decoders\n",
        "        self.bond_encoder = {l: i for i, l in enumerate(self.bond_labels)}\n",
        "        self.bond_decoder = {i: l for i, l in enumerate(self.bond_labels)}\n",
        "        #create atom encoders and decoders\n",
        "        self.atom_encoder = {l: i for i, l in enumerate(self.atom_labels)}\n",
        "        self.atom_decoder = {i: l for i, l in enumerate(self.atom_labels)}\n",
        "    \n",
        "    def _featurize(self, mol: RDKitMol) -> GraphMatrix:\n",
        "        \"\"\"Calculate adjacency matrix and nodes features for RDKitMol.\n",
        "        \n",
        "        Parameters\n",
        "        ----------\n",
        "        mol: rdkit.Chem.rdchem.Mol\n",
        "          RDKit mol object.\n",
        "        Returns\n",
        "        -------\n",
        "        graph: GraphMatrix\n",
        "          A molecule graph with some features.\n",
        "        \"\"\"\n",
        "        if self.kekulize:\n",
        "            Chem.Kekulize(mol)\n",
        "            \n",
        "        A = np.zeros(shape=(self.max_atom_count, self.max_atom_count), dtype=np.float32)\n",
        "        bonds = mol.GetBonds()\n",
        "\n",
        "        begin, end = [b.GetBeginAtomIdx() for b in bonds], [b.GetEndAtomIdx() for b in bonds]\n",
        "        bond_type = [self.bond_encoder[b.GetBondType()] for b in bonds]\n",
        "\n",
        "        A[begin, end] = bond_type\n",
        "        A[end, begin] = bond_type\n",
        "\n",
        "        degree = np.sum(A[:mol.GetNumAtoms(), :mol.GetNumAtoms()], axis=-1)\n",
        "        X = np.array([self.atom_encoder[atom.GetAtomicNum()] for atom in mol.GetAtoms()] + [0] * (self.max_atom_count - mol.GetNumAtoms()), dtype=np.int32)       \n",
        "        graph = GraphMatrix(A,X)\n",
        "           \n",
        "        return graph if (degree > 0).all() else None\n",
        "    \n",
        "    def _defeaturize(self, graph_matrix: GraphMatrix, sanitize:bool = True, cleanup=True) ->RDKitMol:\n",
        "        \"\"\"Recreate RDKitMol from GraphMatrix object. For working correctly same object needs to be used for featurization and defeaturization.\n",
        "        \n",
        "        Parameters\n",
        "        ----------\n",
        "        graph_matrix: GraphMatrix\n",
        "            GraphMatrix object.\n",
        "        sanitize: bool, default True\n",
        "            Should RDKit sanitization be included in the process.\n",
        "        cleanup: bool, default True\n",
        "            Splits salts and removes compounds with \"*\" atom types\n",
        "            \n",
        "        Returns\n",
        "        -------\n",
        "        mol: RDKitMol object\n",
        "            RDKitMol object representing molecule.\n",
        "        \"\"\"\n",
        "        \n",
        "        node_labels = graph_matrix.node_features\n",
        "        edge_labels = graph_matrix.adjacency_matrix\n",
        "\n",
        "        mol = Chem.RWMol()\n",
        "\n",
        "        for node_label in node_labels:\n",
        "            mol.AddAtom(Chem.Atom(self.atom_decoder[node_label]))\n",
        "\n",
        "        for start, end in zip(*np.nonzero(edge_labels)):\n",
        "            if start > end:\n",
        "                mol.AddBond(int(start), int(end), self.bond_decoder[edge_labels[start, end]])\n",
        "\n",
        "        if sanitize:\n",
        "            try:\n",
        "                Chem.SanitizeMol(mol)\n",
        "            except Exception:\n",
        "                mol = None\n",
        "                \n",
        "        if cleanup:\n",
        "            try:\n",
        "                smiles = Chem.MolToSmiles(mol)\n",
        "                smiles = max(smiles.split('.'), key=len)\n",
        "                if \"*\" not in smiles:\n",
        "                    mol = Chem.MolFromSmiles(smiles)\n",
        "                else:\n",
        "                    mol = None\n",
        "            except Exception:\n",
        "                mol = None\n",
        "            \n",
        "\n",
        "        return mol\n",
        "    \n",
        "    def defeaturize(self, graphs, log_every_n=1000) -> np.ndarray:\n",
        "        \"\"\"Calculates molecules from correspoing GraphMatrix objects.\n",
        "        Parameters\n",
        "        ----------\n",
        "        graphs: GraphMatrix / iterable\n",
        "          GraphMatrix object or corresponding iterable\n",
        "        log_every_n: int, default 1000\n",
        "          Logging messages reported every `log_every_n` samples.\n",
        "        Returns\n",
        "        -------\n",
        "        features: np.ndarray\n",
        "          A numpy array containing RDKitMol objext.\n",
        "        \"\"\"\n",
        "        # Special case handling of single molecule\n",
        "        if isinstance(graphs, GraphMatrix):\n",
        "            graphs = [graphs]\n",
        "        else:\n",
        "            # Convert iterables to list\n",
        "            graphs = list(graphs)\n",
        "\n",
        "        molecules = []\n",
        "        for i, gr in enumerate(graphs):\n",
        "            if i % log_every_n == 0:\n",
        "                logger.info(\"Featurizing datapoint %i\" % i)\n",
        "\n",
        "            try:\n",
        "                molecules.append(self._defeaturize(gr))\n",
        "            except Exception as e:\n",
        "                logger.warning(\"Failed to defeaturize datapoint %d, %s. Appending empty array\", i,gr)\n",
        "                logger.warning(\"Exception message: {}\".format(e))\n",
        "                molecules.append(np.array([]))\n",
        "\n",
        "        molecules = np.asarray(molecules)\n",
        "        return molecules"
      ],
      "execution_count": 39,
      "outputs": []
    },
    {
      "cell_type": "code",
      "metadata": {
        "id": "IBsjr8oMbcFL"
      },
      "source": [
        "import tensorflow as tf\n",
        "from tensorflow import keras\n",
        "from tensorflow.keras import layers\n",
        "from deepchem.models import WGAN\n",
        "\n",
        "from layers.layers import GraphEncoderLayer\n",
        "\n",
        "class MolGAN(WGAN):\n",
        "    \"\"\"Model for automatic generation of compounds based on GAN architecture described by Nicola De Cao et al.\n",
        "    `MolGAN: An implicit generative model for small molecular graphs`<https://arxiv.org/abs/1805.11973>`_.\n",
        "    It uses adjacency matrix and node features as inputs, both need to be converted to one hot representation before use.\n",
        "    \n",
        "    \n",
        "    Examples\n",
        "    --------\n",
        "    gan = MolGAN(learning_rate=ExponentialDecay(0.001, 0.9, 5000))\n",
        "    dataset = dc.data.NumpyDataset([x.adjacency_matrix for x in limited],[x.node_features for x in limited])\n",
        "    def iterbatches(epochs):\n",
        "        for i in range(epochs):\n",
        "            for batch in dataset.iterbatches(batch_size=gan.batch_size, pad_batches=True):\n",
        "                adjacency_tensor = tf.one_hot(batch[0], gan.edges)\n",
        "                node_tesor = tf.one_hot(batch[1], gan.nodes)\n",
        "                yield {gan.data_inputs[0]: adjacency_tensor, gan.data_inputs[1]:node_tesor}\n",
        "    gan.fit_gan(iterbatches(10), generator_steps=0.2, checkpoint_interval=5000)\n",
        "    \n",
        "    \"\"\"\n",
        "    \n",
        "    def __init__(self\n",
        "                 ,edges: int = 5\n",
        "                 ,vertices:int = 9\n",
        "                 ,nodes: int = 5\n",
        "                 ,embedding_dim: int = 10\n",
        "                 ,dropout_rate: float = 0.\n",
        "                 ,name:str =''\n",
        "                 , **kwargs):\n",
        "        \"\"\"\n",
        "        Parameters\n",
        "        ----------\n",
        "        edges: int, default 5\n",
        "            Number of bond types includes BondType.Zero\n",
        "        vertices: int, default 9\n",
        "            Max number of atoms in adjacency and node features matrices\n",
        "        nodes: int, default 5\n",
        "            Number of atom types in node features matrix\n",
        "        embedding_dim: int, default 10\n",
        "            Size of noise input\n",
        "        dropout_rate: float, default = 0.\n",
        "            Rate of dropout used across whole model\n",
        "        name: str, default ''\n",
        "            Name of the model\n",
        "        \"\"\"\n",
        "\n",
        "        self.edges = edges\n",
        "        self.vertices = vertices\n",
        "        self.nodes =nodes\n",
        "        self.embedding_dim = embedding_dim\n",
        "        self.dropout_rate = dropout_rate\n",
        "        \n",
        "        super(MolGAN, self).__init__(name=name, **kwargs)\n",
        "\n",
        "    def get_noise_input_shape(self):\n",
        "        return (self.embedding_dim,)\n",
        "\n",
        "    def get_data_input_shapes(self):\n",
        "        return [(self.vertices, self.vertices, self.edges), (self.vertices, self.nodes)]\n",
        "\n",
        "    def create_generator(self):\n",
        "        \n",
        "        print(\"creating generator...\")\n",
        "\n",
        "        input_layer = layers.Input(shape=(self.embedding_dim,))\n",
        "        x = layers.Dense(128, activation='tanh')(input_layer)\n",
        "        x = layers.Dropout(self.dropout_rate)(x)\n",
        "        x = layers.Dense(256, activation='tanh')(x)\n",
        "        x = layers.Dropout(self.dropout_rate)(x)\n",
        "        x = layers.Dense(512, activation='tanh')(x)\n",
        "        x = layers.Dropout(self.dropout_rate)(x)\n",
        "\n",
        "        #EDGES LOGITS\n",
        "        edges_logits = layers.Dense(units=self.edges*self.vertices*self.vertices, activation=None)(x)\n",
        "        edges_logits = layers.Reshape((self.edges, self.vertices, self.vertices))(edges_logits)\n",
        "        matrix_transpose = layers.Permute((1,3,2))(edges_logits)\n",
        "        edges_logits = (edges_logits + matrix_transpose)/2\n",
        "        edges_logits = layers.Permute((2,3,1))(edges_logits)\n",
        "        edges_logits = layers.Dropout(self.dropout_rate)(edges_logits)\n",
        "        \n",
        "        #used during training of the model\n",
        "        edges_softmax = tf.nn.softmax(edges_logits)\n",
        "\n",
        "        #NODES LOGITS\n",
        "        nodes_logits = layers.Dense(units=(self.vertices * self.nodes), activation=None)(x)\n",
        "        nodes_logits = layers.Reshape((self.vertices, self.nodes))(nodes_logits)\n",
        "        nodes_logits = layers.Dropout(self.dropout_rate)(nodes_logits)\n",
        "        \n",
        "        #used during training of the model\n",
        "        nodes_softmax = tf.nn.softmax(nodes_logits)\n",
        "        \n",
        "        #used to generate molecules, consider returning just logits and then use additonal layer when molecules needs to generated\n",
        "        \n",
        "        #used for compound generation, consider removing this from this section and just return un\n",
        "        e_gumbel_logits = edges_logits - tf.math.log(- tf.math.log(tf.random.uniform(tf.shape(edges_logits), dtype=edges_logits.dtype)))\n",
        "        e_gumbel_argmax = tf.one_hot(tf.argmax(e_gumbel_logits, axis=-1), depth=e_gumbel_logits.shape[-1], dtype=e_gumbel_logits.dtype) \n",
        "        e_argmax = tf.argmax(e_gumbel_argmax, axis=-1)\n",
        "        \n",
        "        \n",
        "        #used for compound generation\n",
        "        n_gumbel_logits = nodes_logits - tf.math.log(- tf.math.log(tf.random.uniform(tf.shape(nodes_logits), dtype=nodes_logits.dtype)))\n",
        "        n_gumbel_argmax = tf.one_hot(tf.argmax(n_gumbel_logits, axis=-1), depth=n_gumbel_logits.shape[-1], dtype=n_gumbel_logits.dtype)\n",
        "        n_argmax = tf.argmax(n_gumbel_argmax, axis=-1)\n",
        "        \n",
        "        #final model\n",
        "        return keras.Model(inputs = input_layer, outputs=[edges_softmax, nodes_softmax,e_argmax, n_argmax])\n",
        "    \n",
        "    def create_discriminator(self):\n",
        "        adjacency_tensor= layers.Input(shape=(self.vertices, self.vertices, self.edges))\n",
        "        node_tensor = layers.Input(shape=(self.vertices, self.nodes))\n",
        "\n",
        "        print(\"creating discriminator...\")\n",
        "\n",
        "        graph = GraphEncoderLayer(units = [(128,64),128], dropout_rate= self.dropout_rate, edges=self.edges)([adjacency_tensor,node_tensor])\n",
        "        dense = layers.Dense(units=128, activation='tanh')(graph)\n",
        "        dense = layers.Dropout(self.dropout_rate)(dense)\n",
        "        dense = layers.Dense(units=64, activation='tanh')(dense)\n",
        "        dense = layers.Dropout(self.dropout_rate)(dense)\n",
        "        output = layers.Dense(units=1)(dense)\n",
        "               \n",
        "        return keras.Model(inputs=[(adjacency_tensor, node_tensor)], outputs=[output])\n",
        "    \n",
        "    def predict_gan_generator(self,\n",
        "                            batch_size=1,\n",
        "                            noise_input=None,\n",
        "                            generator_index=0):\n",
        "        \"\"\"Use the GAN to generate a batch of samples.\n",
        "        Parameters\n",
        "        ----------\n",
        "        batch_size: int\n",
        "          the number of samples to generate.  If either noise_input or\n",
        "          conditional_inputs is specified, this argument is ignored since the batch\n",
        "          size is then determined by the size of that argument.\n",
        "        noise_input: array\n",
        "          the value to use for the generator's noise input.  If None (the default),\n",
        "          get_noise_batch() is called to generate a random input, so each call will\n",
        "          produce a new set of samples.\n",
        "        generator_index: int\n",
        "          the index of the generator (between 0 and n_generators-1) to use for\n",
        "          generating the samples.\n",
        "        Returns\n",
        "        -------\n",
        "        An array (if the generator has only one output) or list of arrays (if it has\n",
        "        multiple outputs) containing the generated samples.\n",
        "        \"\"\"\n",
        "        if noise_input is not None:\n",
        "            batch_size = len(noise_input)\n",
        "        if noise_input is None:\n",
        "            noise_input = self.get_noise_batch(batch_size)\n",
        "        inputs = noise_input\n",
        "        _,_,adjacency_matrix, nodes_features = gan.generators[0](inputs, training=False)\n",
        "        graphs = [GraphMatrix(i,j) for i,j in zip(adjacency_matrix.numpy(),nodes_features.numpy())] \n",
        "        return graphs"
      ],
      "execution_count": 80,
      "outputs": []
    },
    {
      "cell_type": "code",
      "metadata": {
        "id": "Iq5EZOtebcFO"
      },
      "source": [
        "#create featurizer\n",
        "feat = MolGanFeaturizer()\n",
        "#featurize molecules\n",
        "limited = feat.featurize(mols)\n",
        "#Remove empty objects\n",
        "limited = list(filter(lambda x: x is not None, limited))"
      ],
      "execution_count": 15,
      "outputs": []
    },
    {
      "cell_type": "code",
      "metadata": {
        "id": "XwdVmIrybcFO"
      },
      "source": [
        "#create dataset\n",
        "dataset = dc.data.NumpyDataset([x.adjacency_matrix for x in limited],[x.node_features for x in limited])"
      ],
      "execution_count": 16,
      "outputs": []
    },
    {
      "cell_type": "code",
      "metadata": {
        "id": "dP9JIDA4bcFP",
        "colab": {
          "base_uri": "https://localhost:8080/"
        },
        "outputId": "ec24b292-a325-4d73-90f5-9f2ecdfd44ab"
      },
      "source": [
        "from deepchem.models.optimizers import ExponentialDecay\n",
        "#create model\n",
        "gan = MolGAN(learning_rate=ExponentialDecay(0.001, 0.9, 5000))"
      ],
      "execution_count": 103,
      "outputs": [
        {
          "output_type": "stream",
          "text": [
            "creating generator...\n",
            "creating discriminator...\n"
          ],
          "name": "stdout"
        }
      ]
    },
    {
      "cell_type": "code",
      "metadata": {
        "id": "yFAiaDcOEo68"
      },
      "source": [
        "#prepare data for training\n",
        "def iterbatches(epochs):\n",
        "  for i in range(epochs):\n",
        "    for batch in dataset.iterbatches(batch_size=gan.batch_size, pad_batches=True):\n",
        "      # print(\"batch shape:\", len(batch))\n",
        "      # print(\"type of tuple elements:\\n\", \"1:\", type(batch[0]), \"2:\", type(batch[1]), \"3:\", type(batch[2]), \"4:\", type(batch[3]))\n",
        "      # print(\"size of tuple elemetns:\\n\", \"1:\", batch[0].shape, \"2:\", batch[1].shape, \"3:\", batch[2].shape, \"4:\", batch[3].shape)\n",
        "      adjacency_tensor = tf.one_hot(batch[0], gan.edges)\n",
        "      node_tensor = tf.one_hot(batch[1], gan.nodes)\n",
        "      # print(\"shape of adjancency tensor: \", adjacency_tensor.shape)\n",
        "      # print(\"shape of node tensor: \", node_tensor.shape)\n",
        "      yield {gan.data_inputs[0]: adjacency_tensor, gan.data_inputs[1]: node_tensor}\n",
        "\n",
        "a = list(iterbatches(1))"
      ],
      "execution_count": 60,
      "outputs": []
    },
    {
      "cell_type": "code",
      "metadata": {
        "colab": {
          "base_uri": "https://localhost:8080/"
        },
        "id": "TSZbZQT9OOU3",
        "outputId": "b9a3a9c8-e2ae-4929-efd3-49b5f4649c39"
      },
      "source": [
        "print(\"length of a: \", len(a))\n",
        "print(\"object type in a:\", type(a[0]))\n",
        "print(\"no of object in dictionary: \", len(a[1]))\n",
        "# print(\"first object from dictionary: \", a[1)\n",
        "print(a[1].keys())"
      ],
      "execution_count": 68,
      "outputs": [
        {
          "output_type": "stream",
          "text": [
            "length of a:  1324\n",
            "object type in a: <class 'dict'>\n",
            "no of object in dictionary:  2\n",
            "dict_keys([<Reference wrapping <KerasTensor: shape=(None, 9, 9, 5) dtype=float32 (created by layer 'input_13')>>, <Reference wrapping <KerasTensor: shape=(None, 9, 5) dtype=float32 (created by layer 'input_14')>>])\n"
          ],
          "name": "stdout"
        }
      ]
    },
    {
      "cell_type": "code",
      "metadata": {
        "colab": {
          "base_uri": "https://localhost:8080/"
        },
        "id": "g-xyzgFZRPwQ",
        "outputId": "7c836c4f-bd3a-4bef-bab8-b02eb9127c3d"
      },
      "source": [
        "for key, value in a[1].items():\n",
        "  print(\"key name: \", key)\n",
        "  print(\"shape of value: \", value.shape)"
      ],
      "execution_count": 71,
      "outputs": [
        {
          "output_type": "stream",
          "text": [
            "key name:  <Reference wrapping <KerasTensor: shape=(None, 9, 9, 5) dtype=float32 (created by layer 'input_13')>>\n",
            "shape of value:  (100, 9, 9, 5)\n",
            "key name:  <Reference wrapping <KerasTensor: shape=(None, 9, 5) dtype=float32 (created by layer 'input_14')>>\n",
            "shape of value:  (100, 9, 5)\n"
          ],
          "name": "stdout"
        }
      ]
    },
    {
      "cell_type": "code",
      "metadata": {
        "id": "aiZI9Nw3bcFP"
      },
      "source": [
        "# #prepare data for training\n",
        "# def iterbatches(epochs):\n",
        "#     for i in range(epochs):\n",
        "#         for batch in dataset.iterbatches(batch_size=gan.batch_size, pad_batches=True):\n",
        "#             adjacency_tensor = tf.one_hot(batch[0], gan.edges)\n",
        "#             node_tensor = tf.one_hot(batch[1], gan.nodes)\n",
        "#             yield {gan.data_inputs[0]: adjacency_tensor, gan.data_inputs[1]: node_tensor}\n",
        "#             # yield {adjacency_tensor, node_tensor}"
      ],
      "execution_count": 39,
      "outputs": []
    },
    {
      "cell_type": "code",
      "metadata": {
        "colab": {
          "base_uri": "https://localhost:8080/"
        },
        "id": "7Re_mWYcbcFP",
        "outputId": "ccccf64a-056f-4f7e-ad55-23bbba56d2ec"
      },
      "source": [
        "#train model\n",
        "gan.fit_gan(iterbatches(4), generator_steps=0.2, checkpoint_interval=5000)"
      ],
      "execution_count": 104,
      "outputs": [
        {
          "output_type": "stream",
          "text": [
            "Ending global_step 4999: generator average loss 2.16203, discriminator average loss 44.8467\n",
            "Ending global_step 5295: generator average loss 2.33173, discriminator average loss -0.603656\n",
            "TIMING: model fitting took 398.174 s\n"
          ],
          "name": "stdout"
        }
      ]
    },
    {
      "cell_type": "code",
      "metadata": {
        "id": "0oTZsT9obcFP"
      },
      "source": [
        "#generat prediced sample\n",
        "g = gan.predict_gan_generator(1000)"
      ],
      "execution_count": 105,
      "outputs": []
    },
    {
      "cell_type": "code",
      "metadata": {
        "id": "O6WLJgTMbcFP",
        "colab": {
          "base_uri": "https://localhost:8080/"
        },
        "outputId": "3889d562-80be-4b4b-9d12-d20af8b4a9ff"
      },
      "source": [
        "#convert graphs to RDKitmolecules\n",
        "nmols = feat.defeaturize(g)\n",
        "print(\"{} molecules generated\".format(len(nmols)))"
      ],
      "execution_count": 106,
      "outputs": [
        {
          "output_type": "stream",
          "text": [
            "1000 molecules generated\n"
          ],
          "name": "stdout"
        }
      ]
    },
    {
      "cell_type": "code",
      "metadata": {
        "id": "4H-3L0cSbcFP",
        "colab": {
          "base_uri": "https://localhost:8080/"
        },
        "outputId": "05a21d62-b42f-452e-b897-c920eb0a46b9"
      },
      "source": [
        "#remove invalid moles\n",
        "nmols = list(filter(lambda x: x is not None, nmols))\n",
        "print (\"{} valid molecules\".format(len(nmols)))"
      ],
      "execution_count": 107,
      "outputs": [
        {
          "output_type": "stream",
          "text": [
            "966 valid molecules\n"
          ],
          "name": "stdout"
        }
      ]
    },
    {
      "cell_type": "code",
      "metadata": {
        "id": "6c3wL_olbcFP",
        "colab": {
          "base_uri": "https://localhost:8080/"
        },
        "outputId": "a1e2efeb-2dc1-4292-df16-46b89e85677a"
      },
      "source": [
        "#get unique molecules\n",
        "nmols = [Chem.MolFromSmiles(x) for x in list(set([Chem.MolToSmiles(z) for z in nmols]))]\n",
        "print(\"{} unique molecules\".format(len(nmols)))"
      ],
      "execution_count": 108,
      "outputs": [
        {
          "output_type": "stream",
          "text": [
            "23 unique molecules\n"
          ],
          "name": "stdout"
        }
      ]
    },
    {
      "cell_type": "code",
      "metadata": {
        "id": "0J06FhJpbcFP",
        "colab": {
          "base_uri": "https://localhost:8080/",
          "height": 1000
        },
        "outputId": "49e1fe88-35fc-4e47-f924-6ba2b18af8af"
      },
      "source": [
        "#display unique molecules\n",
        "Chem.Draw.MolsToGridImage(nmols)"
      ],
      "execution_count": 109,
      "outputs": [
        {
          "output_type": "execute_result",
          "data": {
            "image/png": "[encoded data removed]",
            "text/plain": [
              "<PIL.PngImagePlugin.PngImageFile image mode=RGB size=600x1600 at 0x7F6B64FA0910>"
            ]
          },
          "metadata": {
            "tags": []
          },
          "execution_count": 109
        }
      ]
    },
    {
      "cell_type": "markdown",
      "metadata": {
        "id": "Fgs2q1ombcFP"
      },
      "source": [
        ""
      ]
    }
  ]
}