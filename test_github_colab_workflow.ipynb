{
  "nbformat": 4,
  "nbformat_minor": 0,
  "metadata": {
    "colab": {
      "name": "test_github_colab_workflow.ipynb",
      "provenance": [],
      "collapsed_sections": [],
      "authorship_tag": "ABX9TyNb8uJhFB3Iz9TEldYZ1Qy7",
      "include_colab_link": true
    },
    "kernelspec": {
      "display_name": "Python 3",
      "name": "python3"
    },
    "language_info": {
      "name": "python"
    }
  },
  "cells": [
    {
      "cell_type": "markdown",
      "metadata": {
        "id": "view-in-github",
        "colab_type": "text"
      },
      "source": [
        "<a href=\"https://colab.research.google.com/github/satishgaurav/DeepChem_MolGAN/blob/master/test_github_colab_workflow.ipynb\" target=\"_parent\"><img src=\"https://colab.research.google.com/assets/colab-badge.svg\" alt=\"Open In Colab\"/></a>"
      ]
    },
    {
      "cell_type": "code",
      "metadata": {
        "colab": {
          "base_uri": "https://localhost:8080/"
        },
        "id": "6Zj54T129PsV",
        "outputId": "b41b651f-29fb-4c3d-e85a-e0cc88cd9348"
      },
      "source": [
        "!git clone https://github.com/satishgaurav/DeepChem_MolGAN.git\n",
        "%cd DeepChem_MolGAN"
      ],
      "execution_count": null,
      "outputs": [
        {
          "output_type": "stream",
          "text": [
            "Cloning into 'DeepChem_MolGAN'...\n",
            "remote: Enumerating objects: 110, done.\u001b[K\n",
            "remote: Counting objects: 100% (110/110), done.\u001b[K\n",
            "remote: Compressing objects: 100% (81/81), done.\u001b[K\n",
            "remote: Total 110 (delta 45), reused 68 (delta 21), pack-reused 0\u001b[K\n",
            "Receiving objects: 100% (110/110), 2.50 MiB | 4.43 MiB/s, done.\n",
            "Resolving deltas: 100% (45/45), done.\n",
            "/content/DeepChem_MolGAN/DeepChem_MolGAN/DeepChem_MolGAN\n"
          ],
          "name": "stdout"
        }
      ]
    },
    {
      "cell_type": "code",
      "metadata": {
        "colab": {
          "base_uri": "https://localhost:8080/"
        },
        "id": "TlGSwI7J9prn",
        "outputId": "084cf19b-8de3-4da6-fcb6-68b225199eac"
      },
      "source": [
        "!pwd "
      ],
      "execution_count": null,
      "outputs": [
        {
          "output_type": "stream",
          "text": [
            "/content/DeepChem_MolGAN/DeepChem_MolGAN/DeepChem_MolGAN\n"
          ],
          "name": "stdout"
        }
      ]
    },
    {
      "cell_type": "code",
      "metadata": {
        "colab": {
          "base_uri": "https://localhost:8080/"
        },
        "id": "UZOH7oYa9w_S",
        "outputId": "ee3c3fb1-d92f-43f5-bcf6-30014fb44eee"
      },
      "source": [
        "!ls data"
      ],
      "execution_count": null,
      "outputs": [
        {
          "output_type": "stream",
          "text": [
            "muv.csv  QM9_HAC_5_9_.csv\n"
          ],
          "name": "stdout"
        }
      ]
    },
    {
      "cell_type": "code",
      "metadata": {
        "id": "yD4fk12290af"
      },
      "source": [
        "## Print all variable\n",
        "from IPython.core.interactiveshell import InteractiveShell\n",
        "InteractiveShell.ast_node_interactivity = \"all\""
      ],
      "execution_count": null,
      "outputs": []
    },
    {
      "cell_type": "code",
      "metadata": {
        "colab": {
          "base_uri": "https://localhost:8080/"
        },
        "id": "kVUDNv0K-jo-",
        "outputId": "f6e2ae2c-edb3-4568-a256-190913662e0b"
      },
      "source": [
        "## Install deepchem \n",
        "!curl -Lo conda_installer.py https://raw.githubusercontent.com/deepchem/deepchem/master/scripts/colab_install.py\n",
        "import conda_installer\n",
        "conda_installer.install()\n",
        "!/root/miniconda/bin/conda info -e\n",
        "\n",
        "!pip install --pre deepchem"
      ],
      "execution_count": null,
      "outputs": [
        {
          "output_type": "stream",
          "text": [
            "  % Total    % Received % Xferd  Average Speed   Time    Time     Time  Current\n",
            "                                 Dload  Upload   Total   Spent    Left  Speed\n",
            "\r  0     0    0     0    0     0      0      0 --:--:-- --:--:-- --:--:--     0\r100  3501  100  3501    0     0  30181      0 --:--:-- --:--:-- --:--:-- 30181\n"
          ],
          "name": "stdout"
        },
        {
          "output_type": "stream",
          "text": [
            "python version: 3.7.10\n",
            "remove current miniconda\n",
            "fetching installer from https://repo.continuum.io/miniconda/Miniconda3-latest-Linux-x86_64.sh\n",
            "done\n",
            "installing miniconda to /root/miniconda\n",
            "done\n",
            "installing rdkit, openmm, pdbfixer\n",
            "added omnia to channels\n",
            "added conda-forge to channels\n",
            "done\n",
            "conda packages installation finished!\n"
          ],
          "name": "stderr"
        },
        {
          "output_type": "stream",
          "text": [
            "# conda environments:\n",
            "#\n",
            "base                  *  /root/miniconda\n",
            "\n",
            "Requirement already satisfied: deepchem in /usr/local/lib/python3.7/dist-packages (2.6.0.dev20210403043508)\n",
            "Requirement already satisfied: scipy in /usr/local/lib/python3.7/dist-packages (from deepchem) (1.4.1)\n",
            "Requirement already satisfied: numpy in /usr/local/lib/python3.7/dist-packages (from deepchem) (1.19.5)\n",
            "Requirement already satisfied: scikit-learn in /usr/local/lib/python3.7/dist-packages (from deepchem) (0.22.2.post1)\n",
            "Requirement already satisfied: joblib in /usr/local/lib/python3.7/dist-packages (from deepchem) (1.0.1)\n",
            "Requirement already satisfied: pandas in /usr/local/lib/python3.7/dist-packages (from deepchem) (1.1.5)\n",
            "Requirement already satisfied: python-dateutil>=2.7.3 in /usr/local/lib/python3.7/dist-packages (from pandas->deepchem) (2.8.1)\n",
            "Requirement already satisfied: pytz>=2017.2 in /usr/local/lib/python3.7/dist-packages (from pandas->deepchem) (2018.9)\n",
            "Requirement already satisfied: six>=1.5 in /usr/local/lib/python3.7/dist-packages (from python-dateutil>=2.7.3->pandas->deepchem) (1.15.0)\n"
          ],
          "name": "stdout"
        }
      ]
    },
    {
      "cell_type": "code",
      "metadata": {
        "id": "RaIKHzJi-lcQ"
      },
      "source": [
        "import tensorflow as tf \n",
        "import numpy as np \n",
        "import deepchem as dc\n",
        "import rdkit as rdkit\n",
        "import rdkit.Chem as Chem\n",
        "import rdkit.Chem.PandasTools as pt\n",
        "import pandas as pd"
      ],
      "execution_count": null,
      "outputs": []
    },
    {
      "cell_type": "code",
      "metadata": {
        "colab": {
          "base_uri": "https://localhost:8080/"
        },
        "id": "I5mxF3fW-n56",
        "outputId": "7dc5936a-76c3-48e6-ecfe-7dab11e0a9c9"
      },
      "source": [
        "print('Tensorflow version:', tf.__version__) \n",
        "print('GPU avilable:', tf.test.gpu_device_name())\n",
        "print('RDKit version: ', rdkit.__version__)\n",
        "print('DeepChem version', dc.__version__)"
      ],
      "execution_count": null,
      "outputs": [
        {
          "output_type": "stream",
          "text": [
            "Tensorflow version: 2.4.1\n",
            "GPU avilable: \n",
            "RDKit version:  2020.09.1\n",
            "DeepChem version 2.6.0.dev\n"
          ],
          "name": "stdout"
        }
      ]
    },
    {
      "cell_type": "code",
      "metadata": {
        "id": "1ydcZqrl-qB-"
      },
      "source": [
        "from layers.layers import GraphEncoderLayer\n",
        "from tensorflow.keras import layers"
      ],
      "execution_count": null,
      "outputs": []
    },
    {
      "cell_type": "code",
      "metadata": {
        "colab": {
          "base_uri": "https://localhost:8080/"
        },
        "id": "aPenmRqe_AFy",
        "outputId": "f19a804a-f680-4658-b978-d37f653f938a"
      },
      "source": [
        "data = pd.read_csv('data/muv.csv')\n",
        "data.head()"
      ],
      "execution_count": null,
      "outputs": [
        {
          "output_type": "execute_result",
          "data": {
            "text/html": [
              "<div>\n",
              "<style scoped>\n",
              "    .dataframe tbody tr th:only-of-type {\n",
              "        vertical-align: middle;\n",
              "    }\n",
              "\n",
              "    .dataframe tbody tr th {\n",
              "        vertical-align: top;\n",
              "    }\n",
              "\n",
              "    .dataframe thead th {\n",
              "        text-align: right;\n",
              "    }\n",
              "</style>\n",
              "<table border=\"1\" class=\"dataframe\">\n",
              "  <thead>\n",
              "    <tr style=\"text-align: right;\">\n",
              "      <th></th>\n",
              "      <th>MUV-466</th>\n",
              "      <th>MUV-548</th>\n",
              "      <th>MUV-600</th>\n",
              "      <th>MUV-644</th>\n",
              "      <th>MUV-652</th>\n",
              "      <th>MUV-689</th>\n",
              "      <th>MUV-692</th>\n",
              "      <th>MUV-712</th>\n",
              "      <th>MUV-713</th>\n",
              "      <th>MUV-733</th>\n",
              "      <th>MUV-737</th>\n",
              "      <th>MUV-810</th>\n",
              "      <th>MUV-832</th>\n",
              "      <th>MUV-846</th>\n",
              "      <th>MUV-852</th>\n",
              "      <th>MUV-858</th>\n",
              "      <th>MUV-859</th>\n",
              "      <th>mol_id</th>\n",
              "      <th>smiles</th>\n",
              "    </tr>\n",
              "  </thead>\n",
              "  <tbody>\n",
              "    <tr>\n",
              "      <th>0</th>\n",
              "      <td>NaN</td>\n",
              "      <td>NaN</td>\n",
              "      <td>NaN</td>\n",
              "      <td>NaN</td>\n",
              "      <td>NaN</td>\n",
              "      <td>NaN</td>\n",
              "      <td>NaN</td>\n",
              "      <td>0.0</td>\n",
              "      <td>NaN</td>\n",
              "      <td>NaN</td>\n",
              "      <td>NaN</td>\n",
              "      <td>0.0</td>\n",
              "      <td>NaN</td>\n",
              "      <td>NaN</td>\n",
              "      <td>NaN</td>\n",
              "      <td>NaN</td>\n",
              "      <td>NaN</td>\n",
              "      <td>CID2999678</td>\n",
              "      <td>Cc1cccc(N2CCN(C(=O)C34CC5CC(CC(C5)C3)C4)CC2)c1C</td>\n",
              "    </tr>\n",
              "    <tr>\n",
              "      <th>1</th>\n",
              "      <td>0.0</td>\n",
              "      <td>0.0</td>\n",
              "      <td>NaN</td>\n",
              "      <td>NaN</td>\n",
              "      <td>0.0</td>\n",
              "      <td>0.0</td>\n",
              "      <td>0.0</td>\n",
              "      <td>NaN</td>\n",
              "      <td>NaN</td>\n",
              "      <td>NaN</td>\n",
              "      <td>0.0</td>\n",
              "      <td>NaN</td>\n",
              "      <td>0.0</td>\n",
              "      <td>NaN</td>\n",
              "      <td>NaN</td>\n",
              "      <td>0.0</td>\n",
              "      <td>0.0</td>\n",
              "      <td>CID2999679</td>\n",
              "      <td>Cn1ccnc1SCC(=O)Nc1ccc(Oc2ccccc2)cc1</td>\n",
              "    </tr>\n",
              "    <tr>\n",
              "      <th>2</th>\n",
              "      <td>NaN</td>\n",
              "      <td>NaN</td>\n",
              "      <td>0.0</td>\n",
              "      <td>NaN</td>\n",
              "      <td>NaN</td>\n",
              "      <td>NaN</td>\n",
              "      <td>NaN</td>\n",
              "      <td>NaN</td>\n",
              "      <td>NaN</td>\n",
              "      <td>NaN</td>\n",
              "      <td>NaN</td>\n",
              "      <td>NaN</td>\n",
              "      <td>NaN</td>\n",
              "      <td>NaN</td>\n",
              "      <td>NaN</td>\n",
              "      <td>NaN</td>\n",
              "      <td>0.0</td>\n",
              "      <td>CID2999672</td>\n",
              "      <td>COc1cc2c(cc1NC(=O)CN1C(=O)NC3(CCc4ccccc43)C1=O...</td>\n",
              "    </tr>\n",
              "    <tr>\n",
              "      <th>3</th>\n",
              "      <td>NaN</td>\n",
              "      <td>0.0</td>\n",
              "      <td>0.0</td>\n",
              "      <td>NaN</td>\n",
              "      <td>NaN</td>\n",
              "      <td>0.0</td>\n",
              "      <td>NaN</td>\n",
              "      <td>NaN</td>\n",
              "      <td>NaN</td>\n",
              "      <td>NaN</td>\n",
              "      <td>NaN</td>\n",
              "      <td>NaN</td>\n",
              "      <td>NaN</td>\n",
              "      <td>NaN</td>\n",
              "      <td>NaN</td>\n",
              "      <td>0.0</td>\n",
              "      <td>NaN</td>\n",
              "      <td>CID5390002</td>\n",
              "      <td>O=C1/C(=C/NC2CCS(=O)(=O)C2)c2ccccc2C(=O)N1c1cc...</td>\n",
              "    </tr>\n",
              "    <tr>\n",
              "      <th>4</th>\n",
              "      <td>0.0</td>\n",
              "      <td>NaN</td>\n",
              "      <td>NaN</td>\n",
              "      <td>NaN</td>\n",
              "      <td>0.0</td>\n",
              "      <td>NaN</td>\n",
              "      <td>0.0</td>\n",
              "      <td>0.0</td>\n",
              "      <td>NaN</td>\n",
              "      <td>NaN</td>\n",
              "      <td>NaN</td>\n",
              "      <td>NaN</td>\n",
              "      <td>NaN</td>\n",
              "      <td>NaN</td>\n",
              "      <td>NaN</td>\n",
              "      <td>NaN</td>\n",
              "      <td>NaN</td>\n",
              "      <td>CID2999670</td>\n",
              "      <td>NC(=O)NC(Cc1ccccc1)C(=O)O</td>\n",
              "    </tr>\n",
              "  </tbody>\n",
              "</table>\n",
              "</div>"
            ],
            "text/plain": [
              "   MUV-466  ...                                             smiles\n",
              "0      NaN  ...    Cc1cccc(N2CCN(C(=O)C34CC5CC(CC(C5)C3)C4)CC2)c1C\n",
              "1      0.0  ...                Cn1ccnc1SCC(=O)Nc1ccc(Oc2ccccc2)cc1\n",
              "2      NaN  ...  COc1cc2c(cc1NC(=O)CN1C(=O)NC3(CCc4ccccc43)C1=O...\n",
              "3      NaN  ...  O=C1/C(=C/NC2CCS(=O)(=O)C2)c2ccccc2C(=O)N1c1cc...\n",
              "4      0.0  ...                          NC(=O)NC(Cc1ccccc1)C(=O)O\n",
              "\n",
              "[5 rows x 19 columns]"
            ]
          },
          "metadata": {
            "tags": []
          },
          "execution_count": 33
        }
      ]
    },
    {
      "cell_type": "code",
      "metadata": {
        "colab": {
          "base_uri": "https://localhost:8080/"
        },
        "id": "o0bNSBB1_GDQ",
        "outputId": "b2855e56-a28f-447f-eeca-2dbcc113ea19"
      },
      "source": [
        "data_1 = pd.read_csv('data/QM9_HAC_5_9_.csv')\n",
        "data_1.head()"
      ],
      "execution_count": null,
      "outputs": [
        {
          "output_type": "execute_result",
          "data": {
            "text/html": [
              "<div>\n",
              "<style scoped>\n",
              "    .dataframe tbody tr th:only-of-type {\n",
              "        vertical-align: middle;\n",
              "    }\n",
              "\n",
              "    .dataframe tbody tr th {\n",
              "        vertical-align: top;\n",
              "    }\n",
              "\n",
              "    .dataframe thead th {\n",
              "        text-align: right;\n",
              "    }\n",
              "</style>\n",
              "<table border=\"1\" class=\"dataframe\">\n",
              "  <thead>\n",
              "    <tr style=\"text-align: right;\">\n",
              "      <th></th>\n",
              "      <th>SMILES</th>\n",
              "    </tr>\n",
              "  </thead>\n",
              "  <tbody>\n",
              "    <tr>\n",
              "      <th>0</th>\n",
              "      <td>CC(C)=NO</td>\n",
              "    </tr>\n",
              "    <tr>\n",
              "      <th>1</th>\n",
              "      <td>N1C=CC=C1</td>\n",
              "    </tr>\n",
              "    <tr>\n",
              "      <th>2</th>\n",
              "      <td>N1C=CN=C1</td>\n",
              "    </tr>\n",
              "    <tr>\n",
              "      <th>3</th>\n",
              "      <td>O1C=CC=C1</td>\n",
              "    </tr>\n",
              "    <tr>\n",
              "      <th>4</th>\n",
              "      <td>O1C=CN=C1</td>\n",
              "    </tr>\n",
              "  </tbody>\n",
              "</table>\n",
              "</div>"
            ],
            "text/plain": [
              "      SMILES\n",
              "0   CC(C)=NO\n",
              "1  N1C=CC=C1\n",
              "2  N1C=CN=C1\n",
              "3  O1C=CC=C1\n",
              "4  O1C=CN=C1"
            ]
          },
          "metadata": {
            "tags": []
          },
          "execution_count": 34
        }
      ]
    },
    {
      "cell_type": "code",
      "metadata": {
        "id": "IZJp_hvx_YBr"
      },
      "source": [
        "reduced_data = list(data['smiles'])\n",
        "import random\n",
        "random.shuffle(reduced_data)\n",
        "\n",
        "\n",
        "reduced_data_1 = list(data_1['SMILES'])\n",
        "random.shuffle(reduced_data_1)"
      ],
      "execution_count": null,
      "outputs": []
    },
    {
      "cell_type": "code",
      "metadata": {
        "colab": {
          "base_uri": "https://localhost:8080/"
        },
        "id": "QA7t1Hc2_dfe",
        "outputId": "b3bccf6d-a45a-43a3-f8f4-2b3308eb9c55"
      },
      "source": [
        "for smi in reduced_data[0:5]: \n",
        "  print(type(smi), \":\", smi)\n",
        "\n",
        "print('\\n')\n",
        "for smi in reduced_data_1[0:5]: \n",
        "  print(type(smi), \":\", smi)"
      ],
      "execution_count": null,
      "outputs": [
        {
          "output_type": "stream",
          "text": [
            "<class 'str'> : Cc1nc(-c2cccc(NS(=O)(=O)c3ccc4ccccc4c3)c2)cs1\n",
            "<class 'str'> : CCC(c1nnnn1C(C)(C)CC)N(CCCO)Cc1cc2cccc(C)c2[nH]c1=O\n",
            "<class 'str'> : Cc1cccc(C(=O)O/N=C2\\CC3CCC2(C)C3(C)C)c1\n",
            "<class 'str'> : COCCn1c(-c2ccc(Cl)cc2)cnc1SCC(=O)NCc1cccs1\n",
            "<class 'str'> : Cn1cnnc1SCc1ccccc1Br\n",
            "\n",
            "\n",
            "<class 'str'> : C[NH2+][CH+]OC[C@H]1N[C@H]1C\n",
            "<class 'str'> : C1O[C@H]2COC[C@H]3[C@@H]1[C@@H]23\n",
            "<class 'str'> : O=CO[C@H]1CO[C@H]1C=O\n",
            "<class 'str'> : O=COCC1=NC=NN1\n",
            "<class 'str'> : COC(=O)[C@@H](O)C(N)=O\n"
          ],
          "name": "stdout"
        }
      ]
    },
    {
      "cell_type": "code",
      "metadata": {
        "id": "uXMtUlih_gYN"
      },
      "source": [
        "mols = list(filter(lambda x: x is not None, [Chem.MolFromSmiles(x) for x in reduced_data]))\n",
        "print('No. of molecules obtained: ', len(mols))\n",
        "\n",
        "mols_1 = list(filter(lambda x: x is not None, [Chem.MolFromSmiles(x) for x in reduced_data_1]))\n",
        "print('No. of molecules obtained: ', len(mols_1))"
      ],
      "execution_count": null,
      "outputs": []
    },
    {
      "cell_type": "code",
      "metadata": {
        "id": "xC2USkQr_vPs"
      },
      "source": [
        "print(mols[0:5]) \n",
        "print(mols_1[0:5])"
      ],
      "execution_count": null,
      "outputs": []
    },
    {
      "cell_type": "code",
      "metadata": {
        "id": "4S3LYymBABfL"
      },
      "source": [
        "import logging\n",
        "from deepchem.utils.typing import RDKitAtom, RDKitBond, RDKitMol, List\n",
        "from deepchem.feat.base_classes import MolecularFeaturizer\n",
        "\n",
        "logger = logging.getLogger(__name__)\n",
        "\n",
        "class GraphMatrix():\n",
        "    \"\"\"\n",
        "    This is class used to store data for MolGAN neural networks.\n",
        "    \n",
        "    Parameters\n",
        "    ----------\n",
        "    node_features: np.ndarray\n",
        "      Node feature matrix with shape [num_nodes, num_node_features]\n",
        "    edge_features: np.ndarray,\n",
        "      Edge feature matrix with shape [num_nodes, num_nodes]\n",
        "      \n",
        "    Returns\n",
        "    -------\n",
        "    graph: GraphMatrix\n",
        "      A molecule graph with some features.\n",
        "    \"\"\"   \n",
        "    \n",
        "    def __init__(self,adjacency_matrix: np.ndarray, node_features: np.ndarray):\n",
        "        self.adjacency_matrix = adjacency_matrix\n",
        "        self.node_features = node_features\n",
        "\n",
        "\n",
        "class MolGanFeaturizer(MolecularFeaturizer):\n",
        "    \"\"\"This class implements featurizer used with MolGAN de-novo molecular generation based on:\n",
        "    `MolGAN: An implicit generative model for small molecular graphs`<https://arxiv.org/abs/1805.11973>`_.\n",
        "    The default representation is in form of GraphMatrix object, being wrapper for two matrices containing atom and bond type information.\n",
        "    The class also provides reverse capabilities\"\"\"\n",
        "    \n",
        "    def __init__(self,\n",
        "                max_atom_count:int = 9,\n",
        "                kekulize:bool = True,\n",
        "                bond_labels: List[RDKitBond] = None,\n",
        "                atom_labels: List[int] = None):\n",
        "        \"\"\"\n",
        "        Parameters\n",
        "        ----------\n",
        "        max_atom_count: int, default 9\n",
        "            Maximum number of atoms used for creation of adjacency matrix, molecules cannot have more atoms than this number; implicit hydrogens do not count.\n",
        "        kekulize: bool, default True\n",
        "            Should molecules be kekulized; solves number of issues with defeaturization when used.\n",
        "        bond_labels: List[RDKitBond]\n",
        "            List containing types of bond used for generation of adjacency matrix\n",
        "        atom_labels: List[int]\n",
        "            List of atomic numbers used for generation of node features\n",
        "        \"\"\"\n",
        "        self.max_atom_count = max_atom_count\n",
        "        self.kekulize = kekulize\n",
        "\n",
        "        #bond labels\n",
        "        if bond_labels is None:\n",
        "            self.bond_labels = [\n",
        "                Chem.rdchem.BondType.ZERO\n",
        "                ,Chem.rdchem.BondType.SINGLE\n",
        "                ,Chem.rdchem.BondType.DOUBLE\n",
        "                ,Chem.rdchem.BondType.TRIPLE\n",
        "                ,Chem.rdchem.BondType.AROMATIC]\n",
        "        else:\n",
        "            self.bond_labels = bond_labels\n",
        "\n",
        "        #atom labels\n",
        "        if atom_labels is None:\n",
        "            self.atom_labels = [0, 6, 7, 8, 9] #C,N,O,F\n",
        "        else:\n",
        "            self.atom_labels = atom_labels\n",
        "\n",
        "        #create bond encoders and decoders\n",
        "        self.bond_encoder = {l: i for i, l in enumerate(self.bond_labels)}\n",
        "        self.bond_decoder = {i: l for i, l in enumerate(self.bond_labels)}\n",
        "        #create atom encoders and decoders\n",
        "        self.atom_encoder = {l: i for i, l in enumerate(self.atom_labels)}\n",
        "        self.atom_decoder = {i: l for i, l in enumerate(self.atom_labels)}\n",
        "    \n",
        "    def _featurize(self, mol: RDKitMol) -> GraphMatrix:\n",
        "        \"\"\"Calculate adjacency matrix and nodes features for RDKitMol.\n",
        "        \n",
        "        Parameters\n",
        "        ----------\n",
        "        mol: rdkit.Chem.rdchem.Mol\n",
        "          RDKit mol object.\n",
        "        Returns\n",
        "        -------\n",
        "        graph: GraphMatrix\n",
        "          A molecule graph with some features.\n",
        "        \"\"\"\n",
        "        if self.kekulize:\n",
        "            Chem.Kekulize(mol)\n",
        "            \n",
        "        A = np.zeros(shape=(self.max_atom_count, self.max_atom_count), dtype=np.float32)\n",
        "        bonds = mol.GetBonds()\n",
        "\n",
        "        begin, end = [b.GetBeginAtomIdx() for b in bonds], [b.GetEndAtomIdx() for b in bonds]\n",
        "        bond_type = [self.bond_encoder[b.GetBondType()] for b in bonds]\n",
        "\n",
        "        A[begin, end] = bond_type\n",
        "        A[end, begin] = bond_type\n",
        "\n",
        "        degree = np.sum(A[:mol.GetNumAtoms(), :mol.GetNumAtoms()], axis=-1)\n",
        "        X = np.array([self.atom_encoder[atom.GetAtomicNum()] for atom in mol.GetAtoms()] + [0] * (self.max_atom_count - mol.GetNumAtoms()), dtype=np.int32)       \n",
        "        graph = GraphMatrix(A,X)\n",
        "           \n",
        "        return graph if (degree > 0).all() else None\n",
        "    \n",
        "    def _defeaturize(self, graph_matrix: GraphMatrix, sanitize:bool = True, cleanup=True) ->RDKitMol:\n",
        "        \"\"\"Recreate RDKitMol from GraphMatrix object. For working correctly same object needs to be used for featurization and defeaturization.\n",
        "        \n",
        "        Parameters\n",
        "        ----------\n",
        "        graph_matrix: GraphMatrix\n",
        "            GraphMatrix object.\n",
        "        sanitize: bool, default True\n",
        "            Should RDKit sanitization be included in the process.\n",
        "        cleanup: bool, default True\n",
        "            Splits salts and removes compounds with \"*\" atom types\n",
        "            \n",
        "        Returns\n",
        "        -------\n",
        "        mol: RDKitMol object\n",
        "            RDKitMol object representing molecule.\n",
        "        \"\"\"\n",
        "        \n",
        "        node_labels = graph_matrix.node_features\n",
        "        edge_labels = graph_matrix.adjacency_matrix\n",
        "\n",
        "        mol = Chem.RWMol()\n",
        "\n",
        "        for node_label in node_labels:\n",
        "            mol.AddAtom(Chem.Atom(self.atom_decoder[node_label]))\n",
        "\n",
        "        for start, end in zip(*np.nonzero(edge_labels)):\n",
        "            if start > end:\n",
        "                mol.AddBond(int(start), int(end), self.bond_decoder[edge_labels[start, end]])\n",
        "\n",
        "        if sanitize:\n",
        "            try:\n",
        "                Chem.SanitizeMol(mol)\n",
        "            except Exception:\n",
        "                mol = None\n",
        "                \n",
        "        if cleanup:\n",
        "            try:\n",
        "                smiles = Chem.MolToSmiles(mol)\n",
        "                smiles = max(smiles.split('.'), key=len)\n",
        "                if \"*\" not in smiles:\n",
        "                    mol = Chem.MolFromSmiles(smiles)\n",
        "                else:\n",
        "                    mol = None\n",
        "            except Exception:\n",
        "                mol = None\n",
        "            \n",
        "\n",
        "        return mol\n",
        "    \n",
        "    def defeaturize(self, graphs, log_every_n=1000) -> np.ndarray:\n",
        "        \"\"\"Calculates molecules from correspoing GraphMatrix objects.\n",
        "        Parameters\n",
        "        ----------\n",
        "        graphs: GraphMatrix / iterable\n",
        "          GraphMatrix object or corresponding iterable\n",
        "        log_every_n: int, default 1000\n",
        "          Logging messages reported every `log_every_n` samples.\n",
        "        Returns\n",
        "        -------\n",
        "        features: np.ndarray\n",
        "          A numpy array containing RDKitMol objext.\n",
        "        \"\"\"\n",
        "        # Special case handling of single molecule\n",
        "        if isinstance(graphs, GraphMatrix):\n",
        "            graphs = [graphs]\n",
        "        else:\n",
        "            # Convert iterables to list\n",
        "            graphs = list(graphs)\n",
        "\n",
        "        molecules = []\n",
        "        for i, gr in enumerate(graphs):\n",
        "            if i % log_every_n == 0:\n",
        "                logger.info(\"Featurizing datapoint %i\" % i)\n",
        "\n",
        "            try:\n",
        "                molecules.append(self._defeaturize(gr))\n",
        "            except Exception as e:\n",
        "                logger.warning(\"Failed to defeaturize datapoint %d, %s. Appending empty array\", i,gr)\n",
        "                logger.warning(\"Exception message: {}\".format(e))\n",
        "                molecules.append(np.array([]))\n",
        "\n",
        "        molecules = np.asarray(molecules)\n",
        "        return molecules"
      ],
      "execution_count": null,
      "outputs": []
    },
    {
      "cell_type": "code",
      "metadata": {
        "id": "4VQoEdJQAEKi"
      },
      "source": [
        "import tensorflow as tf\n",
        "from tensorflow import keras\n",
        "from tensorflow.keras import layers\n",
        "from deepchem.models import WGAN\n",
        "\n",
        "from layers.layers import GraphEncoderLayer\n",
        "\n",
        "class MolGAN(WGAN):\n",
        "    \"\"\"Model for automatic generation of compounds based on GAN architecture described by Nicola De Cao et al.\n",
        "    `MolGAN: An implicit generative model for small molecular graphs`<https://arxiv.org/abs/1805.11973>`_.\n",
        "    It uses adjacency matrix and node features as inputs, both need to be converted to one hot representation before use.\n",
        "    \n",
        "    \n",
        "    Examples\n",
        "    --------\n",
        "    gan = MolGAN(learning_rate=ExponentialDecay(0.001, 0.9, 5000))\n",
        "    dataset = dc.data.NumpyDataset([x.adjacency_matrix for x in limited],[x.node_features for x in limited])\n",
        "    def iterbatches(epochs):\n",
        "        for i in range(epochs):\n",
        "            for batch in dataset.iterbatches(batch_size=gan.batch_size, pad_batches=True):\n",
        "                adjacency_tensor = tf.one_hot(batch[0], gan.edges)\n",
        "                node_tesor = tf.one_hot(batch[1], gan.nodes)\n",
        "                yield {gan.data_inputs[0]: adjacency_tensor, gan.data_inputs[1]:node_tesor}\n",
        "    gan.fit_gan(iterbatches(10), generator_steps=0.2, checkpoint_interval=5000)\n",
        "    \n",
        "    \"\"\"\n",
        "    \n",
        "    def __init__(self\n",
        "                 ,edges: int = 5\n",
        "                 ,vertices:int = 9\n",
        "                 ,nodes: int = 5\n",
        "                 ,embedding_dim: int = 10\n",
        "                 ,dropout_rate: float = 0.\n",
        "                 ,name:str =''\n",
        "                 , **kwargs):\n",
        "        \"\"\"\n",
        "        Parameters\n",
        "        ----------\n",
        "        edges: int, default 5\n",
        "            Number of bond types includes BondType.Zero\n",
        "        vertices: int, default 9\n",
        "            Max number of atoms in adjacency and node features matrices\n",
        "        nodes: int, default 5\n",
        "            Number of atom types in node features matrix\n",
        "        embedding_dim: int, default 10\n",
        "            Size of noise input\n",
        "        dropout_rate: float, default = 0.\n",
        "            Rate of dropout used across whole model\n",
        "        name: str, default ''\n",
        "            Name of the model\n",
        "        \"\"\"\n",
        "\n",
        "        self.edges = edges\n",
        "        self.vertices = vertices\n",
        "        self.nodes =nodes\n",
        "        self.embedding_dim = embedding_dim\n",
        "        self.dropout_rate = dropout_rate\n",
        "        \n",
        "        super(MolGAN, self).__init__(name=name, **kwargs)\n",
        "\n",
        "    def get_noise_input_shape(self):\n",
        "        return (self.embedding_dim,)\n",
        "\n",
        "    def get_data_input_shapes(self):\n",
        "        return [(self.vertices, self.vertices, self.edges), (self.vertices, self.nodes)]\n",
        "\n",
        "    def create_generator(self):\n",
        "        \n",
        "        print(\"creating generator...\")\n",
        "\n",
        "        input_layer = layers.Input(shape=(self.embedding_dim,))\n",
        "        x = layers.Dense(128, activation='tanh')(input_layer)\n",
        "        x = layers.Dropout(self.dropout_rate)(x)\n",
        "        x = layers.Dense(256, activation='tanh')(x)\n",
        "        x = layers.Dropout(self.dropout_rate)(x)\n",
        "        x = layers.Dense(512, activation='tanh')(x)\n",
        "        x = layers.Dropout(self.dropout_rate)(x)\n",
        "\n",
        "        #EDGES LOGITS\n",
        "        edges_logits = layers.Dense(units=self.edges*self.vertices*self.vertices, activation=None)(x)\n",
        "        edges_logits = layers.Reshape((self.edges, self.vertices, self.vertices))(edges_logits)\n",
        "        matrix_transpose = layers.Permute((1,3,2))(edges_logits)\n",
        "        edges_logits = (edges_logits + matrix_transpose)/2\n",
        "        edges_logits = layers.Permute((2,3,1))(edges_logits)\n",
        "        edges_logits = layers.Dropout(self.dropout_rate)(edges_logits)\n",
        "        \n",
        "        #used during training of the model\n",
        "        edges_softmax = tf.nn.softmax(edges_logits)\n",
        "\n",
        "        #NODES LOGITS\n",
        "        nodes_logits = layers.Dense(units=(self.vertices * self.nodes), activation=None)(x)\n",
        "        nodes_logits = layers.Reshape((self.vertices, self.nodes))(nodes_logits)\n",
        "        nodes_logits = layers.Dropout(self.dropout_rate)(nodes_logits)\n",
        "        \n",
        "        #used during training of the model\n",
        "        nodes_softmax = tf.nn.softmax(nodes_logits)\n",
        "        \n",
        "        #used to generate molecules, consider returning just logits and then use additonal layer when molecules needs to generated\n",
        "        \n",
        "        #used for compound generation, consider removing this from this section and just return un\n",
        "        e_gumbel_logits = edges_logits - tf.math.log(- tf.math.log(tf.random.uniform(tf.shape(edges_logits), dtype=edges_logits.dtype)))\n",
        "        e_gumbel_argmax = tf.one_hot(tf.argmax(e_gumbel_logits, axis=-1), depth=e_gumbel_logits.shape[-1], dtype=e_gumbel_logits.dtype) \n",
        "        e_argmax = tf.argmax(e_gumbel_argmax, axis=-1)\n",
        "        \n",
        "        \n",
        "        #used for compound generation\n",
        "        n_gumbel_logits = nodes_logits - tf.math.log(- tf.math.log(tf.random.uniform(tf.shape(nodes_logits), dtype=nodes_logits.dtype)))\n",
        "        n_gumbel_argmax = tf.one_hot(tf.argmax(n_gumbel_logits, axis=-1), depth=n_gumbel_logits.shape[-1], dtype=n_gumbel_logits.dtype)\n",
        "        n_argmax = tf.argmax(n_gumbel_argmax, axis=-1)\n",
        "        \n",
        "        #final model\n",
        "        return keras.Model(inputs = input_layer, outputs=[edges_softmax, nodes_softmax,e_argmax, n_argmax])\n",
        "    \n",
        "    def create_discriminator(self):\n",
        "        adjacency_tensor= layers.Input(shape=(self.vertices, self.vertices, self.edges))\n",
        "        node_tensor = layers.Input(shape=(self.vertices, self.nodes))\n",
        "\n",
        "        print(\"creating discriminator...\")\n",
        "\n",
        "        graph = GraphEncoderLayer(units = [(128,64),128], dropout_rate= self.dropout_rate, edges=self.edges)([adjacency_tensor,node_tensor])\n",
        "        dense = layers.Dense(units=128, activation='tanh')(graph)\n",
        "        dense = layers.Dropout(self.dropout_rate)(dense)\n",
        "        dense = layers.Dense(units=64, activation='tanh')(dense)\n",
        "        dense = layers.Dropout(self.dropout_rate)(dense)\n",
        "        output = layers.Dense(units=1)(dense)\n",
        "               \n",
        "        return keras.Model(inputs=[(adjacency_tensor, node_tensor)], outputs=[output])\n",
        "    \n",
        "    def predict_gan_generator(self,\n",
        "                            batch_size=1,\n",
        "                            noise_input=None,\n",
        "                            generator_index=0):\n",
        "        \"\"\"Use the GAN to generate a batch of samples.\n",
        "        Parameters\n",
        "        ----------\n",
        "        batch_size: int\n",
        "          the number of samples to generate.  If either noise_input or\n",
        "          conditional_inputs is specified, this argument is ignored since the batch\n",
        "          size is then determined by the size of that argument.\n",
        "        noise_input: array\n",
        "          the value to use for the generator's noise input.  If None (the default),\n",
        "          get_noise_batch() is called to generate a random input, so each call will\n",
        "          produce a new set of samples.\n",
        "        generator_index: int\n",
        "          the index of the generator (between 0 and n_generators-1) to use for\n",
        "          generating the samples.\n",
        "        Returns\n",
        "        -------\n",
        "        An array (if the generator has only one output) or list of arrays (if it has\n",
        "        multiple outputs) containing the generated samples.\n",
        "        \"\"\"\n",
        "        if noise_input is not None:\n",
        "            batch_size = len(noise_input)\n",
        "        if noise_input is None:\n",
        "            noise_input = self.get_noise_batch(batch_size)\n",
        "        inputs = noise_input\n",
        "        _,_,adjacency_matrix, nodes_features = gan.generators[0](inputs, training=False)\n",
        "        graphs = [GraphMatrix(i,j) for i,j in zip(adjacency_matrix.numpy(),nodes_features.numpy())] \n",
        "        return graphs"
      ],
      "execution_count": null,
      "outputs": []
    },
    {
      "cell_type": "code",
      "metadata": {
        "id": "4Ddmph8CAG2f"
      },
      "source": [
        "# #create featurizer\n",
        "# feat = MolGanFeaturizer()\n",
        "# #featurize molecules\n",
        "# limited = feat.featurize(mols)\n",
        "# #Remove empty objects\n",
        "# limited = list(filter(lambda x: x is not None, limited))"
      ],
      "execution_count": null,
      "outputs": []
    },
    {
      "cell_type": "code",
      "metadata": {
        "colab": {
          "background_save": true
        },
        "id": "1bdqi1KeAOF3"
      },
      "source": [
        "#create featurizer\n",
        "feat = MolGanFeaturizer()\n",
        "#featurize molecules\n",
        "limited = feat.featurize(mols_1)\n",
        "#Remove empty objects\n",
        "limited = list(filter(lambda x: x is not None, limited))"
      ],
      "execution_count": null,
      "outputs": []
    },
    {
      "cell_type": "code",
      "metadata": {
        "id": "wCBs5SEQAPul"
      },
      "source": [
        "#create dataset\n",
        "dataset = dc.data.NumpyDataset([x.adjacency_matrix for x in limited],[x.node_features for x in limited])"
      ],
      "execution_count": null,
      "outputs": []
    },
    {
      "cell_type": "code",
      "metadata": {
        "id": "-RowoPsUAivZ"
      },
      "source": [
        "from deepchem.models.optimizers import ExponentialDecay\n",
        "#create model\n",
        "gan = MolGAN(learning_rate=ExponentialDecay(0.001, 0.9, 5000))"
      ],
      "execution_count": null,
      "outputs": []
    },
    {
      "cell_type": "code",
      "metadata": {
        "id": "HWw_IgSxAnqK"
      },
      "source": [
        "#prepare data for training\n",
        "def iterbatches(epochs):\n",
        "  for i in range(epochs):\n",
        "    for batch in dataset.iterbatches(batch_size=gan.batch_size, pad_batches=True):\n",
        "      # print(\"batch shape:\", len(batch))\n",
        "      # print(\"type of tuple elements:\\n\", \"1:\", type(batch[0]), \"2:\", type(batch[1]), \"3:\", type(batch[2]), \"4:\", type(batch[3]))\n",
        "      # print(\"size of tuple elemetns:\\n\", \"1:\", batch[0].shape, \"2:\", batch[1].shape, \"3:\", batch[2].shape, \"4:\", batch[3].shape)\n",
        "      adjacency_tensor = tf.one_hot(batch[0], gan.edges)\n",
        "      node_tensor = tf.one_hot(batch[1], gan.nodes)\n",
        "      # print(\"shape of adjancency tensor: \", adjacency_tensor.shape)\n",
        "      # print(\"shape of node tensor: \", node_tensor.shape)\n",
        "      yield {gan.data_inputs[0]: adjacency_tensor, gan.data_inputs[1]: node_tensor}\n",
        "\n",
        "# a = list(iterbatches(1))"
      ],
      "execution_count": null,
      "outputs": []
    },
    {
      "cell_type": "code",
      "metadata": {
        "id": "d1wDpe-nAsT5"
      },
      "source": [
        "#train model\n",
        "gan.fit_gan(iterbatches(4), generator_steps=0.2, checkpoint_interval=5000)"
      ],
      "execution_count": null,
      "outputs": []
    },
    {
      "cell_type": "code",
      "metadata": {
        "id": "c7hVgsSiAvJ4"
      },
      "source": [
        "#generat prediced sample\n",
        "g = gan.predict_gan_generator(1000)"
      ],
      "execution_count": null,
      "outputs": []
    },
    {
      "cell_type": "code",
      "metadata": {
        "id": "QE5JAY4LAxRU"
      },
      "source": [
        "#convert graphs to RDKitmolecules\n",
        "nmols = feat.defeaturize(g)\n",
        "print(\"{} molecules generated\".format(len(nmols)))"
      ],
      "execution_count": null,
      "outputs": []
    },
    {
      "cell_type": "code",
      "metadata": {
        "id": "zhxmw3EuAzdc"
      },
      "source": [
        "#remove invalid moles\n",
        "nmols = list(filter(lambda x: x is not None, nmols))\n",
        "print (\"{} valid molecules\".format(len(nmols)))"
      ],
      "execution_count": null,
      "outputs": []
    },
    {
      "cell_type": "code",
      "metadata": {
        "id": "-zmAEDD6A2t_"
      },
      "source": [
        "#get unique molecules\n",
        "nmols = [Chem.MolFromSmiles(x) for x in list(set([Chem.MolToSmiles(z) for z in nmols]))]\n",
        "print(\"{} unique molecules\".format(len(nmols)))"
      ],
      "execution_count": null,
      "outputs": []
    },
    {
      "cell_type": "code",
      "metadata": {
        "id": "zM86SWyTA4oA"
      },
      "source": [
        "#display unique molecules\n",
        "Chem.Draw.MolsToGridImage(nmols)"
      ],
      "execution_count": null,
      "outputs": []
    },
    {
      "cell_type": "code",
      "metadata": {
        "id": "v1Te516RB0Vy"
      },
      "source": [
        "!git add . "
      ],
      "execution_count": null,
      "outputs": []
    },
    {
      "cell_type": "code",
      "metadata": {
        "id": "BNhGnSsHHoTU"
      },
      "source": [
        "!git commit -m 'this is for testing github colab workflw'  # commit in Colab\n",
        "!git push origin master          # push to github"
      ],
      "execution_count": null,
      "outputs": []
    },
    {
      "cell_type": "code",
      "metadata": {
        "id": "0OO1GhNcH7Ny"
      },
      "source": [
        ""
      ],
      "execution_count": null,
      "outputs": []
    }
  ]
}